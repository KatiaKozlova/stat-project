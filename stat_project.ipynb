{
  "nbformat": 4,
  "nbformat_minor": 0,
  "metadata": {
    "colab": {
      "provenance": [],
      "authorship_tag": "ABX9TyNseNfr+7sfakE2W/nW5iom",
      "include_colab_link": true
    },
    "kernelspec": {
      "name": "ir",
      "display_name": "R"
    },
    "language_info": {
      "name": "R"
    }
  },
  "cells": [
    {
      "cell_type": "markdown",
      "metadata": {
        "id": "view-in-github",
        "colab_type": "text"
      },
      "source": [
        "<a href=\"https://colab.research.google.com/github/KatiaKozlova/stat-project/blob/main/stat_project.ipynb\" target=\"_parent\"><img src=\"https://colab.research.google.com/assets/colab-badge.svg\" alt=\"Open In Colab\"/></a>"
      ]
    },
    {
      "cell_type": "markdown",
      "source": [
        "# Experimental Research in Degree Semantics\n",
        "\n",
        "Notebook by *Daria Sidorkina* & *Kate Kozlova*"
      ],
      "metadata": {
        "id": "9tUjwTZYxCFU"
      }
    },
    {
      "cell_type": "markdown",
      "source": [
        "### **Libraries**:"
      ],
      "metadata": {
        "id": "_j2PbBv3xYVi"
      }
    },
    {
      "cell_type": "code",
      "source": [
        "knitr::opts_chunk$set(warning = FALSE, message = FALSE)"
      ],
      "metadata": {
        "id": "a0xJDuilPfv2"
      },
      "execution_count": 4,
      "outputs": []
    },
    {
      "cell_type": "code",
      "source": [
        "install.packages('rstatix')"
      ],
      "metadata": {
        "id": "pds4HMoWYNsP"
      },
      "execution_count": null,
      "outputs": []
    },
    {
      "cell_type": "code",
      "source": [
        "library(dplyr)\n",
        "library(tidyverse)\n",
        "library(jsonlite)\n",
        "library(rstatix)"
      ],
      "metadata": {
        "id": "4LACgPlcL4vB"
      },
      "execution_count": 9,
      "outputs": []
    },
    {
      "cell_type": "markdown",
      "source": [
        "## **Experiment 1**"
      ],
      "metadata": {
        "id": "98CR7OmsPI49"
      }
    },
    {
      "cell_type": "markdown",
      "source": [
        "### **Import of the collected data**:"
      ],
      "metadata": {
        "id": "F5X2y5I7xdR4"
      }
    },
    {
      "cell_type": "code",
      "execution_count": 1,
      "metadata": {
        "id": "6cRdyOY2FD1W"
      },
      "outputs": [],
      "source": [
        "lion_exp <- read.csv(\n",
        "    'https://raw.githubusercontent.com/KatiaKozlova/stat-project/refs/heads/main/results/exp1/results_exp1.csv'\n",
        "    )"
      ]
    },
    {
      "cell_type": "markdown",
      "source": [
        "### **Data pre-processing and statistics**:"
      ],
      "metadata": {
        "id": "BKRqXFRbyX94"
      }
    },
    {
      "cell_type": "code",
      "source": [
        "# omitting the time-stamps and division into 4 groups\n",
        "\n",
        "lion_exp <- lion_exp[, -c(1:2)]"
      ],
      "metadata": {
        "id": "eJIRArM1JnJQ"
      },
      "execution_count": null,
      "outputs": []
    },
    {
      "cell_type": "code",
      "source": [
        "# minimal, maximal, average of each sentence\n",
        "# number and standart deviation\n",
        "\n",
        "lion_exp_stats <- as.data.frame(t(sapply(\n",
        "    lion_exp,\n",
        "    function(x) c(\n",
        "        avg = mean(x, na.rm = TRUE),\n",
        "        min = min(x, na.rm = TRUE),\n",
        "        max = max(x, na.rm = TRUE),\n",
        "        st_dev = sd(x, na.rm = TRUE),\n",
        "        count = length(which(!is.na(x)))\n",
        "        )\n",
        "        )))"
      ],
      "metadata": {
        "id": "Jzsqp22wHLwB"
      },
      "execution_count": null,
      "outputs": []
    },
    {
      "cell_type": "code",
      "source": [
        "# adding rownames\n",
        "\n",
        "lion_exp_stats <- rownames_to_column(lion_exp_stats, var = \"stimuli\")\n",
        "lion_exp_stats <- tibble::rowid_to_column(lion_exp_stats, \"id\")"
      ],
      "metadata": {
        "id": "rzWDOLqVPAno"
      },
      "execution_count": null,
      "outputs": []
    },
    {
      "cell_type": "code",
      "source": [
        "# manually omitting fillers (only stimuli are left)\n",
        "\n",
        "lion_stimuli <- lion_exp_stats[\n",
        "    -c(1, 3, 6, 10, 11, 18, 19, 20,\n",
        "    24, 29, 34, 35, 37, 38, 39, 40,\n",
        "    43, 45, 46, 50, 51, 53, 58, 60,\n",
        "    62, 65, 68, 69, 72, 76, 78, 80), -1]\n",
        "\n",
        "rownames(lion_stimuli) <- 1:nrow(lion_stimuli)"
      ],
      "metadata": {
        "id": "kvbf9ByjPkIu"
      },
      "execution_count": null,
      "outputs": []
    },
    {
      "cell_type": "code",
      "source": [
        "# solving several problems\n",
        "# (doubled sentence and broken encoding)\n",
        "\n",
        "mean_ch <- mean(lion_stimuli$avg[c(20, 39)])\n",
        "sum_ch <- sum(lion_stimuli$count[c(20, 39)])\n",
        "lion_stimuli$avg[20] <- mean_ch\n",
        "lion_stimuli$count[20] <- sum_ch\n",
        "lion_stimuli <- lion_stimuli[-39, ]\n",
        "rownames(lion_stimuli) <- 1:nrow(lion_stimuli)\n",
        "\n",
        "lion_stimuli <- lion_stimuli %>%\n",
        "  mutate(stimuli = str_replace_all(stimuli, \"\\\\.\\\\.\", \"\\\\,\\\\ \")) %>%\n",
        "    mutate(stimuli = str_replace_all(stimuli, \"\\\\.\", \"\\\\ \"))"
      ],
      "metadata": {
        "id": "xbtiBqQ0OpZS"
      },
      "execution_count": null,
      "outputs": []
    },
    {
      "cell_type": "code",
      "source": [
        "# ordering in alphabetical order (groups by four)\n",
        "# saving as CSV\n",
        "\n",
        "lion_stimuli_sorted <- lion_stimuli[order(lion_stimuli$stimuli),]\n",
        "\n",
        "write.csv(lion_stimuli_sorted,\"results_exp1_statistics.csv\", row.names = FALSE)"
      ],
      "metadata": {
        "id": "WPbLnrhrIqfN"
      },
      "execution_count": null,
      "outputs": []
    },
    {
      "cell_type": "markdown",
      "source": [
        "### **Data analysis and preliminary findings**:"
      ],
      "metadata": {
        "id": "CRKIVsb9y3RD"
      }
    },
    {
      "cell_type": "markdown",
      "source": [
        "We took 4 as minimum average score of the sentence to be considered as acceptable (according to the human reasoning)."
      ],
      "metadata": {
        "id": "1KBwgALIy6bo"
      }
    },
    {
      "cell_type": "code",
      "source": [
        "lion_stimuli_sorted[lion_stimuli_sorted$avg > 4, ]"
      ],
      "metadata": {
        "colab": {
          "base_uri": "https://localhost:8080/",
          "height": 599
        },
        "id": "RlyyV4QkT7Y1",
        "outputId": "9c3c3503-4821-447e-d2ad-812dc7a276f5"
      },
      "execution_count": null,
      "outputs": [
        {
          "output_type": "display_data",
          "data": {
            "text/html": [
              "<table class=\"dataframe\">\n",
              "<caption>A data.frame: 16 × 6</caption>\n",
              "<thead>\n",
              "\t<tr><th></th><th scope=col>stimuli</th><th scope=col>avg</th><th scope=col>min</th><th scope=col>max</th><th scope=col>st_dev</th><th scope=col>count</th></tr>\n",
              "\t<tr><th></th><th scope=col>&lt;chr&gt;</th><th scope=col>&lt;dbl&gt;</th><th scope=col>&lt;dbl&gt;</th><th scope=col>&lt;dbl&gt;</th><th scope=col>&lt;dbl&gt;</th><th scope=col>&lt;dbl&gt;</th></tr>\n",
              "</thead>\n",
              "<tbody>\n",
              "\t<tr><th scope=row>19</th><td>Вода в ванне немного горячая                </td><td>4.303030</td><td>2</td><td>5</td><td>0.8472326</td><td>33</td></tr>\n",
              "\t<tr><th scope=row>5</th><td>Вода в ванне немного холодная               </td><td>4.352941</td><td>1</td><td>5</td><td>1.2030858</td><td>34</td></tr>\n",
              "\t<tr><th scope=row>33</th><td>Вода в ванне совершенно холодная            </td><td>4.423077</td><td>2</td><td>5</td><td>0.8566482</td><td>26</td></tr>\n",
              "\t<tr><th scope=row>45</th><td>Все студенты в пятой группе немного ленивые </td><td>4.647059</td><td>2</td><td>5</td><td>0.7337059</td><td>34</td></tr>\n",
              "\t<tr><th scope=row>14</th><td>Интернет в общежитии немного медленный      </td><td>4.363636</td><td>1</td><td>5</td><td>1.2946569</td><td>33</td></tr>\n",
              "\t<tr><th scope=row>44</th><td>Комната Вадика немного тёмная               </td><td>4.470588</td><td>2</td><td>5</td><td>0.8611231</td><td>34</td></tr>\n",
              "\t<tr><th scope=row>3</th><td>Комната Вадика совершенно тёмная            </td><td>4.264706</td><td>1</td><td>5</td><td>0.9941899</td><td>34</td></tr>\n",
              "\t<tr><th scope=row>41</th><td>Лицо на той картине немного уродливое       </td><td>4.235294</td><td>1</td><td>5</td><td>1.1821609</td><td>34</td></tr>\n",
              "\t<tr><th scope=row>24</th><td>Лицо на той картине совершенно уродливое    </td><td>4.333333</td><td>2</td><td>5</td><td>0.9895285</td><td>33</td></tr>\n",
              "\t<tr><th scope=row>36</th><td>Моя соседка по парте немного глупая         </td><td>4.884615</td><td>3</td><td>5</td><td>0.4314555</td><td>26</td></tr>\n",
              "\t<tr><th scope=row>38</th><td>Моя соседка по парте совершенно глупая      </td><td>4.264706</td><td>1</td><td>5</td><td>1.0242166</td><td>34</td></tr>\n",
              "\t<tr><th scope=row>15</th><td>Наш лев немного трусливый                   </td><td>4.454545</td><td>2</td><td>5</td><td>1.0028369</td><td>33</td></tr>\n",
              "\t<tr><th scope=row>8</th><td>Новый учитель информатики немного злой      </td><td>4.558824</td><td>3</td><td>5</td><td>0.7463518</td><td>34</td></tr>\n",
              "\t<tr><th scope=row>2</th><td>Эта скатерть немного грязная                </td><td>4.676471</td><td>1</td><td>5</td><td>0.8060599</td><td>34</td></tr>\n",
              "\t<tr><th scope=row>28</th><td>Эта скатерть совершенно грязная             </td><td>4.192308</td><td>1</td><td>5</td><td>1.1668498</td><td>26</td></tr>\n",
              "\t<tr><th scope=row>46</th><td>Эта скатерть совершенно чистая              </td><td>4.411765</td><td>1</td><td>5</td><td>1.1313078</td><td>34</td></tr>\n",
              "</tbody>\n",
              "</table>\n"
            ],
            "text/markdown": "\nA data.frame: 16 × 6\n\n| <!--/--> | stimuli &lt;chr&gt; | avg &lt;dbl&gt; | min &lt;dbl&gt; | max &lt;dbl&gt; | st_dev &lt;dbl&gt; | count &lt;dbl&gt; |\n|---|---|---|---|---|---|---|\n| 19 | Вода в ванне немного горячая                 | 4.303030 | 2 | 5 | 0.8472326 | 33 |\n| 5 | Вода в ванне немного холодная                | 4.352941 | 1 | 5 | 1.2030858 | 34 |\n| 33 | Вода в ванне совершенно холодная             | 4.423077 | 2 | 5 | 0.8566482 | 26 |\n| 45 | Все студенты в пятой группе немного ленивые  | 4.647059 | 2 | 5 | 0.7337059 | 34 |\n| 14 | Интернет в общежитии немного медленный       | 4.363636 | 1 | 5 | 1.2946569 | 33 |\n| 44 | Комната Вадика немного тёмная                | 4.470588 | 2 | 5 | 0.8611231 | 34 |\n| 3 | Комната Вадика совершенно тёмная             | 4.264706 | 1 | 5 | 0.9941899 | 34 |\n| 41 | Лицо на той картине немного уродливое        | 4.235294 | 1 | 5 | 1.1821609 | 34 |\n| 24 | Лицо на той картине совершенно уродливое     | 4.333333 | 2 | 5 | 0.9895285 | 33 |\n| 36 | Моя соседка по парте немного глупая          | 4.884615 | 3 | 5 | 0.4314555 | 26 |\n| 38 | Моя соседка по парте совершенно глупая       | 4.264706 | 1 | 5 | 1.0242166 | 34 |\n| 15 | Наш лев немного трусливый                    | 4.454545 | 2 | 5 | 1.0028369 | 33 |\n| 8 | Новый учитель информатики немного злой       | 4.558824 | 3 | 5 | 0.7463518 | 34 |\n| 2 | Эта скатерть немного грязная                 | 4.676471 | 1 | 5 | 0.8060599 | 34 |\n| 28 | Эта скатерть совершенно грязная              | 4.192308 | 1 | 5 | 1.1668498 | 26 |\n| 46 | Эта скатерть совершенно чистая               | 4.411765 | 1 | 5 | 1.1313078 | 34 |\n\n",
            "text/latex": "A data.frame: 16 × 6\n\\begin{tabular}{r|llllll}\n  & stimuli & avg & min & max & st\\_dev & count\\\\\n  & <chr> & <dbl> & <dbl> & <dbl> & <dbl> & <dbl>\\\\\n\\hline\n\t19 & Вода в ванне немного горячая                 & 4.303030 & 2 & 5 & 0.8472326 & 33\\\\\n\t5 & Вода в ванне немного холодная                & 4.352941 & 1 & 5 & 1.2030858 & 34\\\\\n\t33 & Вода в ванне совершенно холодная             & 4.423077 & 2 & 5 & 0.8566482 & 26\\\\\n\t45 & Все студенты в пятой группе немного ленивые  & 4.647059 & 2 & 5 & 0.7337059 & 34\\\\\n\t14 & Интернет в общежитии немного медленный       & 4.363636 & 1 & 5 & 1.2946569 & 33\\\\\n\t44 & Комната Вадика немного тёмная                & 4.470588 & 2 & 5 & 0.8611231 & 34\\\\\n\t3 & Комната Вадика совершенно тёмная             & 4.264706 & 1 & 5 & 0.9941899 & 34\\\\\n\t41 & Лицо на той картине немного уродливое        & 4.235294 & 1 & 5 & 1.1821609 & 34\\\\\n\t24 & Лицо на той картине совершенно уродливое     & 4.333333 & 2 & 5 & 0.9895285 & 33\\\\\n\t36 & Моя соседка по парте немного глупая          & 4.884615 & 3 & 5 & 0.4314555 & 26\\\\\n\t38 & Моя соседка по парте совершенно глупая       & 4.264706 & 1 & 5 & 1.0242166 & 34\\\\\n\t15 & Наш лев немного трусливый                    & 4.454545 & 2 & 5 & 1.0028369 & 33\\\\\n\t8 & Новый учитель информатики немного злой       & 4.558824 & 3 & 5 & 0.7463518 & 34\\\\\n\t2 & Эта скатерть немного грязная                 & 4.676471 & 1 & 5 & 0.8060599 & 34\\\\\n\t28 & Эта скатерть совершенно грязная              & 4.192308 & 1 & 5 & 1.1668498 & 26\\\\\n\t46 & Эта скатерть совершенно чистая               & 4.411765 & 1 & 5 & 1.1313078 & 34\\\\\n\\end{tabular}\n",
            "text/plain": [
              "   stimuli                                      avg      min max st_dev   \n",
              "19 Вода в ванне немного горячая                 4.303030 2   5   0.8472326\n",
              "5  Вода в ванне немного холодная                4.352941 1   5   1.2030858\n",
              "33 Вода в ванне совершенно холодная             4.423077 2   5   0.8566482\n",
              "45 Все студенты в пятой группе немного ленивые  4.647059 2   5   0.7337059\n",
              "14 Интернет в общежитии немного медленный       4.363636 1   5   1.2946569\n",
              "44 Комната Вадика немного тёмная                4.470588 2   5   0.8611231\n",
              "3  Комната Вадика совершенно тёмная             4.264706 1   5   0.9941899\n",
              "41 Лицо на той картине немного уродливое        4.235294 1   5   1.1821609\n",
              "24 Лицо на той картине совершенно уродливое     4.333333 2   5   0.9895285\n",
              "36 Моя соседка по парте немного глупая          4.884615 3   5   0.4314555\n",
              "38 Моя соседка по парте совершенно глупая       4.264706 1   5   1.0242166\n",
              "15 Наш лев немного трусливый                    4.454545 2   5   1.0028369\n",
              "8  Новый учитель информатики немного злой       4.558824 3   5   0.7463518\n",
              "2  Эта скатерть немного грязная                 4.676471 1   5   0.8060599\n",
              "28 Эта скатерть совершенно грязная              4.192308 1   5   1.1668498\n",
              "46 Эта скатерть совершенно чистая               4.411765 1   5   1.1313078\n",
              "   count\n",
              "19 33   \n",
              "5  34   \n",
              "33 26   \n",
              "45 34   \n",
              "14 33   \n",
              "44 34   \n",
              "3  34   \n",
              "41 34   \n",
              "24 33   \n",
              "36 26   \n",
              "38 34   \n",
              "15 33   \n",
              "8  34   \n",
              "2  34   \n",
              "28 26   \n",
              "46 34   "
            ]
          },
          "metadata": {}
        }
      ]
    },
    {
      "cell_type": "markdown",
      "source": [
        "**Our findings**:\n",
        "\n",
        "Adjectives in bold font represent **prevalence** in acceptability of modification with degree modifiers or the only possible variant of modification.\n",
        "\n",
        "Three acceptable collocations:\n",
        "- **грязный** – чистый (dirty – clean, *чистый* with *совершенно* (completely));\n",
        "- **холодный** – горячий (cold – hot, *горячий* with *немного* (slightly)).\n",
        "\n",
        "Two acceptable collocations:\n",
        "- светлый – **тёмный** (light – dark);\n",
        "- умный – **глупый** (smart – stupid);\n",
        "- красивый – **уродливый** (beautiful – ugly).\n",
        "\n",
        "One acceptable collocations (all with *немного* (slightly)):\n",
        "- быстрый – **медленный** (fast – slow);\n",
        "- **злой** – добрый (good – bad)$^1$;\n",
        "- **ленивый** – трудолюбивый (lazy – hard-working);\n",
        "- храбрый – **трусливый** (brave – fearful).\n",
        "\n",
        "Zero acceptable collocations:\n",
        "- щедрый – скупой (generous – stingy);\n",
        "- высокий – низкий (tall – short);\n",
        "- тяжёлый – лёгкий (heavy – light).\n",
        "\n",
        "\n",
        "$^1$ It should be mentioned that we accidentally skiped one variant *совершенно добрый* (completely kind)."
      ],
      "metadata": {
        "id": "d0laQs_ZYzRF"
      }
    },
    {
      "cell_type": "markdown",
      "source": [
        "## **Experiment 2**"
      ],
      "metadata": {
        "id": "mQxXTv5tPOxi"
      }
    },
    {
      "cell_type": "markdown",
      "source": [
        "### **Import of the collected data**:"
      ],
      "metadata": {
        "id": "ZwfLmVXXP25u"
      }
    },
    {
      "cell_type": "code",
      "execution_count": 153,
      "metadata": {
        "id": "gBn99hVJP25v"
      },
      "outputs": [],
      "source": [
        "# opening JSON and making a tibble out of it\n",
        "\n",
        "raw_second_exp <- fromJSON(\n",
        "    'https://raw.githubusercontent.com/KatiaKozlova/stat-project/refs/heads/main/results/exp2/results_exp2.json',\n",
        "    flatten=TRUE\n",
        "    ) %>% as_tibble()"
      ]
    },
    {
      "cell_type": "code",
      "source": [
        "# reframing and transposing into a dataframe\n",
        "\n",
        "flatten_second_exp <- raw_second_exp %>%\n",
        "  mutate(across(where(is.list), as.character))\n",
        "\n",
        "second_exp <- flatten_second_exp[-1] %>%\n",
        "  t() %>%\n",
        "    as.data.frame() %>%\n",
        "      setNames(\n",
        "        c('id_person', 'id_item',\n",
        "        'id_list', 'adjective',\n",
        "        'type', 'judgement',\n",
        "        'print_time', 'judge_time')\n",
        "        )"
      ],
      "metadata": {
        "id": "23s3skwiQC02"
      },
      "execution_count": 154,
      "outputs": []
    },
    {
      "cell_type": "code",
      "source": [
        "# creating a column with timing of each answer\n",
        "\n",
        "second_exp$clean_time <- (as.numeric(second_exp$judge_time) - as.numeric(second_exp$print_time)) / 1000"
      ],
      "metadata": {
        "id": "y632GgARUdXP"
      },
      "execution_count": 155,
      "outputs": []
    },
    {
      "cell_type": "markdown",
      "source": [
        "### **Data pre-processing**:"
      ],
      "metadata": {
        "id": "P5HspTa5vugS"
      }
    },
    {
      "cell_type": "markdown",
      "source": [
        "1. First, we want to delete all the people whose answers on control questions were wrong, since they do not pass the adequacy test.\n",
        "There were three control questions:\n",
        "        0. Только самый маленький смурф принёс с собой бахилы. ⇝ Самый большой смурф принёс с собой бахилы.\n",
        "        (Only the smallest Smurf brought shoe covers with him. ⇝ The biggest Smurf brought shoe covers with him.)\n",
        "        00. Клёпа забыла, что в столовой не принимают карты. ⇝ В столовой не принимают карты.\n",
        "        (Cleopatra forgot that they don't accept cards in the dining room. ⇝ The dining room does not accept cards.)\n",
        "        000. В группе нет никого зануднее Андрея. ⇝ Андрей самый занудный в группе.\n",
        "        (There is no one in the group more nerdy than Andrew. ⇝ Andrew is the most nerdy in the group .)\n",
        "\n",
        "The answers to them are obviously *False*, *True* and *True*, accordingly. We accepted 4 and 5 as true judgements, and 1 and 2 as false judgements."
      ],
      "metadata": {
        "id": "Obl_iGx0zbfJ"
      }
    },
    {
      "cell_type": "code",
      "source": [
        "# illustations\n",
        "\n",
        "stimuli <- read.csv(\n",
        "    'https://raw.githubusercontent.com/KatiaKozlova/stat-project/refs/heads/main/results/exp2/stimuli_exp2.csv',\n",
        "    colClasses=c(\"item\"=\"character\")\n",
        "    )\n",
        "\n",
        "head(stimuli[stimuli$item %in% c('0', '00', '000'), ], 3)"
      ],
      "metadata": {
        "id": "QfLztI4u6Joz",
        "outputId": "e7e8141c-3c5e-465b-9661-726eefeeedd0",
        "colab": {
          "base_uri": "https://localhost:8080/",
          "height": 192
        }
      },
      "execution_count": 162,
      "outputs": [
        {
          "output_type": "display_data",
          "data": {
            "text/html": [
              "<table class=\"dataframe\">\n",
              "<caption>A data.frame: 3 × 7</caption>\n",
              "<thead>\n",
              "\t<tr><th></th><th scope=col>code</th><th scope=col>group</th><th scope=col>item</th><th scope=col>adj</th><th scope=col>filler</th><th scope=col>item_text</th><th scope=col>item_goal</th></tr>\n",
              "\t<tr><th></th><th scope=col>&lt;int&gt;</th><th scope=col>&lt;chr&gt;</th><th scope=col>&lt;chr&gt;</th><th scope=col>&lt;chr&gt;</th><th scope=col>&lt;chr&gt;</th><th scope=col>&lt;chr&gt;</th><th scope=col>&lt;chr&gt;</th></tr>\n",
              "</thead>\n",
              "<tbody>\n",
              "\t<tr><th scope=row>1</th><td>1221099</td><td>A</td><td>0  </td><td>-</td><td>control</td><td>Только самый маленький смурф принёс с собой бахилы.</td><td>Самый большой смурф принёс с собой бахилы.</td></tr>\n",
              "\t<tr><th scope=row>2</th><td>1221099</td><td>A</td><td>00 </td><td>-</td><td>control</td><td>Клёпа забыла, что в столовой не принимают карты.   </td><td>В столовой не принимают карты.            </td></tr>\n",
              "\t<tr><th scope=row>3</th><td>1221099</td><td>A</td><td>000</td><td>-</td><td>control</td><td>В группе нет никого зануднее Андрея.               </td><td>Андрей самый занудный в группе.           </td></tr>\n",
              "</tbody>\n",
              "</table>\n"
            ],
            "text/markdown": "\nA data.frame: 3 × 7\n\n| <!--/--> | code &lt;int&gt; | group &lt;chr&gt; | item &lt;chr&gt; | adj &lt;chr&gt; | filler &lt;chr&gt; | item_text &lt;chr&gt; | item_goal &lt;chr&gt; |\n|---|---|---|---|---|---|---|---|\n| 1 | 1221099 | A | 0   | - | control | Только самый маленький смурф принёс с собой бахилы. | Самый большой смурф принёс с собой бахилы. |\n| 2 | 1221099 | A | 00  | - | control | Клёпа забыла, что в столовой не принимают карты.    | В столовой не принимают карты.             |\n| 3 | 1221099 | A | 000 | - | control | В группе нет никого зануднее Андрея.                | Андрей самый занудный в группе.            |\n\n",
            "text/latex": "A data.frame: 3 × 7\n\\begin{tabular}{r|lllllll}\n  & code & group & item & adj & filler & item\\_text & item\\_goal\\\\\n  & <int> & <chr> & <chr> & <chr> & <chr> & <chr> & <chr>\\\\\n\\hline\n\t1 & 1221099 & A & 0   & - & control & Только самый маленький смурф принёс с собой бахилы. & Самый большой смурф принёс с собой бахилы.\\\\\n\t2 & 1221099 & A & 00  & - & control & Клёпа забыла, что в столовой не принимают карты.    & В столовой не принимают карты.            \\\\\n\t3 & 1221099 & A & 000 & - & control & В группе нет никого зануднее Андрея.                & Андрей самый занудный в группе.           \\\\\n\\end{tabular}\n",
            "text/plain": [
              "  code    group item adj filler \n",
              "1 1221099 A     0    -   control\n",
              "2 1221099 A     00   -   control\n",
              "3 1221099 A     000  -   control\n",
              "  item_text                                          \n",
              "1 Только самый маленький смурф принёс с собой бахилы.\n",
              "2 Клёпа забыла, что в столовой не принимают карты.   \n",
              "3 В группе нет никого зануднее Андрея.               \n",
              "  item_goal                                 \n",
              "1 Самый большой смурф принёс с собой бахилы.\n",
              "2 В столовой не принимают карты.            \n",
              "3 Андрей самый занудный в группе.           "
            ]
          },
          "metadata": {}
        }
      ]
    },
    {
      "cell_type": "code",
      "source": [
        "# creating a df with control questions\n",
        "\n",
        "control_questions <- second_exp[second_exp$type == 'control',]"
      ],
      "metadata": {
        "id": "lg6BiuzdVUgQ"
      },
      "execution_count": 163,
      "outputs": []
    },
    {
      "cell_type": "code",
      "source": [
        "# spotting unadequate judgments\n",
        "\n",
        "unadequate_0 <- control_questions[control_questions$id_item == '0' & !(control_questions$judgement %in% c('1', '2')),]$id_person\n",
        "unadequate_00 <- control_questions[control_questions$id_item == '00' & !(control_questions$judgement %in% c('4', '5')),]$id_person\n",
        "unadequate_000 <- control_questions[control_questions$id_item == '000' & !(control_questions$judgement %in% c('4', '5')),]$id_person\n",
        "\n",
        "unadequates <- unique(c(unadequate_0, unadequate_00, unadequate_000))"
      ],
      "metadata": {
        "id": "mCwWt3kL62_u"
      },
      "execution_count": 164,
      "outputs": []
    },
    {
      "cell_type": "code",
      "source": [
        "# deleting these users\n",
        "\n",
        "second_exp <- second_exp[!(second_exp$id_person %in% unadequates),]"
      ],
      "metadata": {
        "id": "mDq2E5i58P5v"
      },
      "execution_count": 168,
      "outputs": []
    },
    {
      "cell_type": "markdown",
      "source": [
        "2. Second, among other means, we were also using *Yandex.Toloka*, which allow its' users to get paid for completing easy tasks, such as filling in some questioners. However, one of its' problems include an \"unfair game\" where subjects may choose answers randomly. Thus, we want to manually detect such users that their timing repeatedly was less than a second per answer and delete them as outliers."
      ],
      "metadata": {
        "id": "wFWrnHGxv564"
      }
    },
    {
      "cell_type": "code",
      "source": [
        "# detecting automatic answers\n",
        "\n",
        "automatic_answers <- second_exp[second_exp$clean_time < 1,] %>%\n",
        "  group_by(id_person) %>%\n",
        "    summarise(n = n())\n",
        "\n",
        "automatic_answers <- automatic_answers[automatic_answers$n > 1,]"
      ],
      "metadata": {
        "id": "pxpRfz30sYBz"
      },
      "execution_count": 166,
      "outputs": []
    },
    {
      "cell_type": "code",
      "source": [
        "# deleting the only unfair player left\n",
        "\n",
        "second_exp <- second_exp[!(second_exp$id_person %in% automatic_answers$id_person),]"
      ],
      "metadata": {
        "id": "bJx_CwMTtTej"
      },
      "execution_count": 170,
      "outputs": []
    },
    {
      "cell_type": "code",
      "source": [
        "# illustrating via boxplot\n",
        "\n",
        "boxplot(control_questions$clean_time,\n",
        "  ylab = \"time, s\",\n",
        "  main = 'Box plot with control questions'\n",
        ")"
      ],
      "metadata": {
        "colab": {
          "base_uri": "https://localhost:8080/",
          "height": 437
        },
        "id": "Lwh_sc1tWun_",
        "outputId": "059d03f1-0d88-40c8-9346-86f609f8b7a6"
      },
      "execution_count": 172,
      "outputs": [
        {
          "output_type": "display_data",
          "data": {
            "text/plain": [
              "Plot with title “Box plot with control questions”"
            ],
            "image/png": "[encoded data removed]"
          },
          "metadata": {
            "image/png": {
              "width": 420,
              "height": 420
            }
          }
        }
      ]
    },
    {
      "cell_type": "markdown",
      "source": [
        "3. Third, there are still some random unique outliers:\n",
        "    - time of answer is more than 100s,\n",
        "    - time of answer is less than 1s."
      ],
      "metadata": {
        "id": "nZBmMzLSEWDi"
      }
    },
    {
      "cell_type": "code",
      "source": [
        "summary(second_exp$clean_time)"
      ],
      "metadata": {
        "colab": {
          "base_uri": "https://localhost:8080/",
          "height": 52
        },
        "id": "BX_EK_KS034J",
        "outputId": "55002f71-d11d-47f7-b270-f2eb974fd3e9"
      },
      "execution_count": 187,
      "outputs": [
        {
          "output_type": "display_data",
          "data": {
            "text/plain": [
              "    Min.  1st Qu.   Median     Mean  3rd Qu.     Max. \n",
              "   0.437    5.657    8.209   13.980   11.691 4155.141 "
            ]
          },
          "metadata": {}
        }
      ]
    },
    {
      "cell_type": "code",
      "source": [
        "second_exp <- second_exp[second_exp$clean_time < 100 & second_exp$clean_time > 1,]"
      ],
      "metadata": {
        "id": "86FYwb_1FThk"
      },
      "execution_count": 195,
      "outputs": []
    },
    {
      "cell_type": "markdown",
      "source": [
        "### **Calculating the statistics**"
      ],
      "metadata": {
        "id": "X7OM_9711AKL"
      }
    },
    {
      "cell_type": "code",
      "source": [
        "grouped_data <- second_exp %>%\n",
        "  group_by(id_list) %>%\n",
        "    summarise(n_people = n_distinct(id_person))\n",
        "\n",
        "barplot(\n",
        "    height=pull(grouped_data, n_people),\n",
        "    names=pull(grouped_data, id_list),\n",
        "    ylab='subjects',\n",
        "    main='Number of subjects per sheet'\n",
        "    )"
      ],
      "metadata": {
        "id": "ZhBgJQ6OGytN",
        "outputId": "08eb671e-af0b-4a6d-fe64-d6706d69e4ce",
        "colab": {
          "base_uri": "https://localhost:8080/",
          "height": 437
        }
      },
      "execution_count": 236,
      "outputs": [
        {
          "output_type": "display_data",
          "data": {
            "text/plain": [
              "Plot with title “Number of subjects per sheet”"
            ],
            "image/png": "[encoded data removed]"
          },
          "metadata": {
            "image/png": {
              "width": 420,
              "height": 420
            }
          }
        }
      ]
    },
    {
      "cell_type": "code",
      "source": [
        "summary(second_exp$clean_time)"
      ],
      "metadata": {
        "id": "d8Z0NxF9GVYK",
        "outputId": "007c008c-086b-40ad-d877-c739f25e7c57",
        "colab": {
          "base_uri": "https://localhost:8080/",
          "height": 52
        }
      },
      "execution_count": 198,
      "outputs": [
        {
          "output_type": "display_data",
          "data": {
            "text/plain": [
              "   Min. 1st Qu.  Median    Mean 3rd Qu.    Max. \n",
              "  1.467   5.657   8.202   9.940  11.666  86.977 "
            ]
          },
          "metadata": {}
        }
      ]
    },
    {
      "cell_type": "code",
      "source": [
        "# illustrating via boxplot\n",
        "\n",
        "boxplot(second_exp$clean_time,\n",
        "  ylab = \"time, s\",\n",
        "  main = 'Timing of the answers (cleaned)'\n",
        ")"
      ],
      "metadata": {
        "colab": {
          "base_uri": "https://localhost:8080/",
          "height": 437
        },
        "id": "iYsS-Z7R1dhB",
        "outputId": "580c0c41-7166-4039-ccfc-99fcf9c2e44c"
      },
      "execution_count": 237,
      "outputs": [
        {
          "output_type": "display_data",
          "data": {
            "text/plain": [
              "Plot with title “Timing of the answers (cleaned)”"
            ],
            "image/png": "[encoded data removed]"
          },
          "metadata": {
            "image/png": {
              "width": 420,
              "height": 420
            }
          }
        }
      ]
    },
    {
      "cell_type": "code",
      "source": [],
      "metadata": {
        "id": "FpBjpQO2Dl6g"
      },
      "execution_count": null,
      "outputs": []
    }
  ]
}