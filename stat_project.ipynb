{
  "nbformat": 4,
  "nbformat_minor": 0,
  "metadata": {
    "colab": {
      "provenance": [],
      "authorship_tag": "ABX9TyN6b7jOOwvwh4T+FUiqGtsF",
      "include_colab_link": true
    },
    "kernelspec": {
      "name": "ir",
      "display_name": "R"
    },
    "language_info": {
      "name": "R"
    }
  },
  "cells": [
    {
      "cell_type": "markdown",
      "metadata": {
        "id": "view-in-github",
        "colab_type": "text"
      },
      "source": [
        "<a href=\"https://colab.research.google.com/github/KatiaKozlova/stat-project/blob/main/stat_project.ipynb\" target=\"_parent\"><img src=\"https://colab.research.google.com/assets/colab-badge.svg\" alt=\"Open In Colab\"/></a>"
      ]
    },
    {
      "cell_type": "markdown",
      "source": [
        "# Experimental Research in Degree Semantics\n",
        "\n",
        "Notebook by *Daria Sidorkina* & *Kate Kozlova*"
      ],
      "metadata": {
        "id": "9tUjwTZYxCFU"
      }
    },
    {
      "cell_type": "markdown",
      "source": [
        "### **Libraries**:"
      ],
      "metadata": {
        "id": "_j2PbBv3xYVi"
      }
    },
    {
      "cell_type": "code",
      "source": [
        "knitr::opts_chunk$set(warning = FALSE, message = FALSE)"
      ],
      "metadata": {
        "id": "a0xJDuilPfv2"
      },
      "execution_count": 2,
      "outputs": []
    },
    {
      "cell_type": "code",
      "source": [
        "install.packages('rstatix')\n",
        "install.packages('egg', dependencies = TRUE)\n",
        "install.packages('effsize')"
      ],
      "metadata": {
        "id": "pds4HMoWYNsP"
      },
      "execution_count": null,
      "outputs": []
    },
    {
      "cell_type": "code",
      "source": [
        "library(dplyr)\n",
        "library(tidyverse)\n",
        "library(jsonlite)\n",
        "library(rstatix)\n",
        "library(ggplot2)\n",
        "library(effsize)"
      ],
      "metadata": {
        "id": "4LACgPlcL4vB"
      },
      "execution_count": null,
      "outputs": []
    },
    {
      "cell_type": "markdown",
      "source": [
        "## **Experiment 1**"
      ],
      "metadata": {
        "id": "98CR7OmsPI49"
      }
    },
    {
      "cell_type": "markdown",
      "source": [
        "### **Import of the collected data**:"
      ],
      "metadata": {
        "id": "F5X2y5I7xdR4"
      }
    },
    {
      "cell_type": "code",
      "execution_count": 1,
      "metadata": {
        "id": "6cRdyOY2FD1W"
      },
      "outputs": [],
      "source": [
        "lion_exp <- read.csv(\n",
        "    'https://raw.githubusercontent.com/KatiaKozlova/stat-project/refs/heads/main/results/exp1/results_exp1.csv'\n",
        "    )"
      ]
    },
    {
      "cell_type": "markdown",
      "source": [
        "### **Data pre-processing and statistics**:"
      ],
      "metadata": {
        "id": "BKRqXFRbyX94"
      }
    },
    {
      "cell_type": "code",
      "source": [
        "# omitting the time-stamps and division into 4 groups\n",
        "\n",
        "lion_exp <- lion_exp[, -c(1:2)]"
      ],
      "metadata": {
        "id": "eJIRArM1JnJQ"
      },
      "execution_count": null,
      "outputs": []
    },
    {
      "cell_type": "code",
      "source": [
        "# minimal, maximal, average of each sentence\n",
        "# number and standart deviation\n",
        "\n",
        "lion_exp_stats <- as.data.frame(t(sapply(\n",
        "    lion_exp,\n",
        "    function(x) c(\n",
        "        avg = mean(x, na.rm = TRUE),\n",
        "        min = min(x, na.rm = TRUE),\n",
        "        max = max(x, na.rm = TRUE),\n",
        "        st_dev = sd(x, na.rm = TRUE),\n",
        "        count = length(which(!is.na(x)))\n",
        "        )\n",
        "        )))"
      ],
      "metadata": {
        "id": "Jzsqp22wHLwB"
      },
      "execution_count": null,
      "outputs": []
    },
    {
      "cell_type": "code",
      "source": [
        "# adding rownames\n",
        "\n",
        "lion_exp_stats <- rownames_to_column(lion_exp_stats, var = 'stimuli')\n",
        "lion_exp_stats <- tibble::rowid_to_column(lion_exp_stats, 'id')"
      ],
      "metadata": {
        "id": "rzWDOLqVPAno"
      },
      "execution_count": null,
      "outputs": []
    },
    {
      "cell_type": "code",
      "source": [
        "# manually omitting fillers (only stimuli are left)\n",
        "\n",
        "lion_stimuli <- lion_exp_stats[\n",
        "    -c(1, 3, 6, 10, 11, 18, 19, 20,\n",
        "    24, 29, 34, 35, 37, 38, 39, 40,\n",
        "    43, 45, 46, 50, 51, 53, 58, 60,\n",
        "    62, 65, 68, 69, 72, 76, 78, 80), -1]\n",
        "\n",
        "rownames(lion_stimuli) <- 1:nrow(lion_stimuli)"
      ],
      "metadata": {
        "id": "kvbf9ByjPkIu"
      },
      "execution_count": null,
      "outputs": []
    },
    {
      "cell_type": "code",
      "source": [
        "# solving several problems\n",
        "# (doubled sentence and broken encoding)\n",
        "\n",
        "mean_ch <- mean(lion_stimuli$avg[c(20, 39)])\n",
        "sum_ch <- sum(lion_stimuli$count[c(20, 39)])\n",
        "lion_stimuli$avg[20] <- mean_ch\n",
        "lion_stimuli$count[20] <- sum_ch\n",
        "lion_stimuli <- lion_stimuli[-39, ]\n",
        "rownames(lion_stimuli) <- 1:nrow(lion_stimuli)\n",
        "\n",
        "lion_stimuli <- lion_stimuli %>%\n",
        "  mutate(stimuli = str_replace_all(stimuli, '\\\\.\\\\.', '\\\\,\\\\ ')) %>%\n",
        "    mutate(stimuli = str_replace_all(stimuli, '\\\\.', '\\\\ '))"
      ],
      "metadata": {
        "id": "xbtiBqQ0OpZS"
      },
      "execution_count": null,
      "outputs": []
    },
    {
      "cell_type": "code",
      "source": [
        "# ordering in alphabetical order (groups by four)\n",
        "# saving as CSV\n",
        "\n",
        "lion_stimuli_sorted <- lion_stimuli[order(lion_stimuli$stimuli),]\n",
        "\n",
        "write.csv(lion_stimuli_sorted, 'results_exp1_statistics.csv', row.names = FALSE)"
      ],
      "metadata": {
        "id": "WPbLnrhrIqfN"
      },
      "execution_count": null,
      "outputs": []
    },
    {
      "cell_type": "markdown",
      "source": [
        "### **Data analysis and preliminary findings**:"
      ],
      "metadata": {
        "id": "CRKIVsb9y3RD"
      }
    },
    {
      "cell_type": "markdown",
      "source": [
        "We took 4 as minimum average score of the sentence to be considered as acceptable (according to the human reasoning)."
      ],
      "metadata": {
        "id": "1KBwgALIy6bo"
      }
    },
    {
      "cell_type": "code",
      "source": [
        "lion_stimuli_sorted[lion_stimuli_sorted$avg > 4, ]"
      ],
      "metadata": {
        "colab": {
          "base_uri": "https://localhost:8080/",
          "height": 599
        },
        "id": "RlyyV4QkT7Y1",
        "outputId": "9c3c3503-4821-447e-d2ad-812dc7a276f5"
      },
      "execution_count": null,
      "outputs": [
        {
          "output_type": "display_data",
          "data": {
            "text/html": [
              "<table class=\"dataframe\">\n",
              "<caption>A data.frame: 16 × 6</caption>\n",
              "<thead>\n",
              "\t<tr><th></th><th scope=col>stimuli</th><th scope=col>avg</th><th scope=col>min</th><th scope=col>max</th><th scope=col>st_dev</th><th scope=col>count</th></tr>\n",
              "\t<tr><th></th><th scope=col>&lt;chr&gt;</th><th scope=col>&lt;dbl&gt;</th><th scope=col>&lt;dbl&gt;</th><th scope=col>&lt;dbl&gt;</th><th scope=col>&lt;dbl&gt;</th><th scope=col>&lt;dbl&gt;</th></tr>\n",
              "</thead>\n",
              "<tbody>\n",
              "\t<tr><th scope=row>19</th><td>Вода в ванне немного горячая                </td><td>4.303030</td><td>2</td><td>5</td><td>0.8472326</td><td>33</td></tr>\n",
              "\t<tr><th scope=row>5</th><td>Вода в ванне немного холодная               </td><td>4.352941</td><td>1</td><td>5</td><td>1.2030858</td><td>34</td></tr>\n",
              "\t<tr><th scope=row>33</th><td>Вода в ванне совершенно холодная            </td><td>4.423077</td><td>2</td><td>5</td><td>0.8566482</td><td>26</td></tr>\n",
              "\t<tr><th scope=row>45</th><td>Все студенты в пятой группе немного ленивые </td><td>4.647059</td><td>2</td><td>5</td><td>0.7337059</td><td>34</td></tr>\n",
              "\t<tr><th scope=row>14</th><td>Интернет в общежитии немного медленный      </td><td>4.363636</td><td>1</td><td>5</td><td>1.2946569</td><td>33</td></tr>\n",
              "\t<tr><th scope=row>44</th><td>Комната Вадика немного тёмная               </td><td>4.470588</td><td>2</td><td>5</td><td>0.8611231</td><td>34</td></tr>\n",
              "\t<tr><th scope=row>3</th><td>Комната Вадика совершенно тёмная            </td><td>4.264706</td><td>1</td><td>5</td><td>0.9941899</td><td>34</td></tr>\n",
              "\t<tr><th scope=row>41</th><td>Лицо на той картине немного уродливое       </td><td>4.235294</td><td>1</td><td>5</td><td>1.1821609</td><td>34</td></tr>\n",
              "\t<tr><th scope=row>24</th><td>Лицо на той картине совершенно уродливое    </td><td>4.333333</td><td>2</td><td>5</td><td>0.9895285</td><td>33</td></tr>\n",
              "\t<tr><th scope=row>36</th><td>Моя соседка по парте немного глупая         </td><td>4.884615</td><td>3</td><td>5</td><td>0.4314555</td><td>26</td></tr>\n",
              "\t<tr><th scope=row>38</th><td>Моя соседка по парте совершенно глупая      </td><td>4.264706</td><td>1</td><td>5</td><td>1.0242166</td><td>34</td></tr>\n",
              "\t<tr><th scope=row>15</th><td>Наш лев немного трусливый                   </td><td>4.454545</td><td>2</td><td>5</td><td>1.0028369</td><td>33</td></tr>\n",
              "\t<tr><th scope=row>8</th><td>Новый учитель информатики немного злой      </td><td>4.558824</td><td>3</td><td>5</td><td>0.7463518</td><td>34</td></tr>\n",
              "\t<tr><th scope=row>2</th><td>Эта скатерть немного грязная                </td><td>4.676471</td><td>1</td><td>5</td><td>0.8060599</td><td>34</td></tr>\n",
              "\t<tr><th scope=row>28</th><td>Эта скатерть совершенно грязная             </td><td>4.192308</td><td>1</td><td>5</td><td>1.1668498</td><td>26</td></tr>\n",
              "\t<tr><th scope=row>46</th><td>Эта скатерть совершенно чистая              </td><td>4.411765</td><td>1</td><td>5</td><td>1.1313078</td><td>34</td></tr>\n",
              "</tbody>\n",
              "</table>\n"
            ],
            "text/markdown": "\nA data.frame: 16 × 6\n\n| <!--/--> | stimuli &lt;chr&gt; | avg &lt;dbl&gt; | min &lt;dbl&gt; | max &lt;dbl&gt; | st_dev &lt;dbl&gt; | count &lt;dbl&gt; |\n|---|---|---|---|---|---|---|\n| 19 | Вода в ванне немного горячая                 | 4.303030 | 2 | 5 | 0.8472326 | 33 |\n| 5 | Вода в ванне немного холодная                | 4.352941 | 1 | 5 | 1.2030858 | 34 |\n| 33 | Вода в ванне совершенно холодная             | 4.423077 | 2 | 5 | 0.8566482 | 26 |\n| 45 | Все студенты в пятой группе немного ленивые  | 4.647059 | 2 | 5 | 0.7337059 | 34 |\n| 14 | Интернет в общежитии немного медленный       | 4.363636 | 1 | 5 | 1.2946569 | 33 |\n| 44 | Комната Вадика немного тёмная                | 4.470588 | 2 | 5 | 0.8611231 | 34 |\n| 3 | Комната Вадика совершенно тёмная             | 4.264706 | 1 | 5 | 0.9941899 | 34 |\n| 41 | Лицо на той картине немного уродливое        | 4.235294 | 1 | 5 | 1.1821609 | 34 |\n| 24 | Лицо на той картине совершенно уродливое     | 4.333333 | 2 | 5 | 0.9895285 | 33 |\n| 36 | Моя соседка по парте немного глупая          | 4.884615 | 3 | 5 | 0.4314555 | 26 |\n| 38 | Моя соседка по парте совершенно глупая       | 4.264706 | 1 | 5 | 1.0242166 | 34 |\n| 15 | Наш лев немного трусливый                    | 4.454545 | 2 | 5 | 1.0028369 | 33 |\n| 8 | Новый учитель информатики немного злой       | 4.558824 | 3 | 5 | 0.7463518 | 34 |\n| 2 | Эта скатерть немного грязная                 | 4.676471 | 1 | 5 | 0.8060599 | 34 |\n| 28 | Эта скатерть совершенно грязная              | 4.192308 | 1 | 5 | 1.1668498 | 26 |\n| 46 | Эта скатерть совершенно чистая               | 4.411765 | 1 | 5 | 1.1313078 | 34 |\n\n",
            "text/latex": "A data.frame: 16 × 6\n\\begin{tabular}{r|llllll}\n  & stimuli & avg & min & max & st\\_dev & count\\\\\n  & <chr> & <dbl> & <dbl> & <dbl> & <dbl> & <dbl>\\\\\n\\hline\n\t19 & Вода в ванне немного горячая                 & 4.303030 & 2 & 5 & 0.8472326 & 33\\\\\n\t5 & Вода в ванне немного холодная                & 4.352941 & 1 & 5 & 1.2030858 & 34\\\\\n\t33 & Вода в ванне совершенно холодная             & 4.423077 & 2 & 5 & 0.8566482 & 26\\\\\n\t45 & Все студенты в пятой группе немного ленивые  & 4.647059 & 2 & 5 & 0.7337059 & 34\\\\\n\t14 & Интернет в общежитии немного медленный       & 4.363636 & 1 & 5 & 1.2946569 & 33\\\\\n\t44 & Комната Вадика немного тёмная                & 4.470588 & 2 & 5 & 0.8611231 & 34\\\\\n\t3 & Комната Вадика совершенно тёмная             & 4.264706 & 1 & 5 & 0.9941899 & 34\\\\\n\t41 & Лицо на той картине немного уродливое        & 4.235294 & 1 & 5 & 1.1821609 & 34\\\\\n\t24 & Лицо на той картине совершенно уродливое     & 4.333333 & 2 & 5 & 0.9895285 & 33\\\\\n\t36 & Моя соседка по парте немного глупая          & 4.884615 & 3 & 5 & 0.4314555 & 26\\\\\n\t38 & Моя соседка по парте совершенно глупая       & 4.264706 & 1 & 5 & 1.0242166 & 34\\\\\n\t15 & Наш лев немного трусливый                    & 4.454545 & 2 & 5 & 1.0028369 & 33\\\\\n\t8 & Новый учитель информатики немного злой       & 4.558824 & 3 & 5 & 0.7463518 & 34\\\\\n\t2 & Эта скатерть немного грязная                 & 4.676471 & 1 & 5 & 0.8060599 & 34\\\\\n\t28 & Эта скатерть совершенно грязная              & 4.192308 & 1 & 5 & 1.1668498 & 26\\\\\n\t46 & Эта скатерть совершенно чистая               & 4.411765 & 1 & 5 & 1.1313078 & 34\\\\\n\\end{tabular}\n",
            "text/plain": [
              "   stimuli                                      avg      min max st_dev   \n",
              "19 Вода в ванне немного горячая                 4.303030 2   5   0.8472326\n",
              "5  Вода в ванне немного холодная                4.352941 1   5   1.2030858\n",
              "33 Вода в ванне совершенно холодная             4.423077 2   5   0.8566482\n",
              "45 Все студенты в пятой группе немного ленивые  4.647059 2   5   0.7337059\n",
              "14 Интернет в общежитии немного медленный       4.363636 1   5   1.2946569\n",
              "44 Комната Вадика немного тёмная                4.470588 2   5   0.8611231\n",
              "3  Комната Вадика совершенно тёмная             4.264706 1   5   0.9941899\n",
              "41 Лицо на той картине немного уродливое        4.235294 1   5   1.1821609\n",
              "24 Лицо на той картине совершенно уродливое     4.333333 2   5   0.9895285\n",
              "36 Моя соседка по парте немного глупая          4.884615 3   5   0.4314555\n",
              "38 Моя соседка по парте совершенно глупая       4.264706 1   5   1.0242166\n",
              "15 Наш лев немного трусливый                    4.454545 2   5   1.0028369\n",
              "8  Новый учитель информатики немного злой       4.558824 3   5   0.7463518\n",
              "2  Эта скатерть немного грязная                 4.676471 1   5   0.8060599\n",
              "28 Эта скатерть совершенно грязная              4.192308 1   5   1.1668498\n",
              "46 Эта скатерть совершенно чистая               4.411765 1   5   1.1313078\n",
              "   count\n",
              "19 33   \n",
              "5  34   \n",
              "33 26   \n",
              "45 34   \n",
              "14 33   \n",
              "44 34   \n",
              "3  34   \n",
              "41 34   \n",
              "24 33   \n",
              "36 26   \n",
              "38 34   \n",
              "15 33   \n",
              "8  34   \n",
              "2  34   \n",
              "28 26   \n",
              "46 34   "
            ]
          },
          "metadata": {}
        }
      ]
    },
    {
      "cell_type": "markdown",
      "source": [
        "**Our findings**:\n",
        "\n",
        "Adjectives in bold font represent **prevalence** in acceptability of modification with degree modifiers or the only possible variant of modification.\n",
        "\n",
        "Three acceptable collocations:\n",
        "- **грязный** – чистый (dirty – clean, *чистый* with *совершенно* (completely));\n",
        "- **холодный** – горячий (cold – hot, *горячий* with *немного* (slightly)).\n",
        "\n",
        "Two acceptable collocations:\n",
        "- светлый – **тёмный** (light – dark);\n",
        "- умный – **глупый** (smart – stupid);\n",
        "- красивый – **уродливый** (beautiful – ugly).\n",
        "\n",
        "One acceptable collocations (all with *немного* (slightly)):\n",
        "- быстрый – **медленный** (fast – slow);\n",
        "- **злой** – добрый (good – bad)$^1$;\n",
        "- **ленивый** – трудолюбивый (lazy – hard-working);\n",
        "- храбрый – **трусливый** (brave – fearful).\n",
        "\n",
        "Zero acceptable collocations:\n",
        "- щедрый – скупой (generous – stingy);\n",
        "- высокий – низкий (tall – short);\n",
        "- тяжёлый – лёгкий (heavy – light).\n",
        "\n",
        "\n",
        "$^1$ It should be mentioned that we accidentally skiped one variant *совершенно добрый* (completely kind)."
      ],
      "metadata": {
        "id": "d0laQs_ZYzRF"
      }
    },
    {
      "cell_type": "markdown",
      "source": [
        "## **Experiment 2**"
      ],
      "metadata": {
        "id": "mQxXTv5tPOxi"
      }
    },
    {
      "cell_type": "markdown",
      "source": [
        "### **Import of the collected data**:"
      ],
      "metadata": {
        "id": "ZwfLmVXXP25u"
      }
    },
    {
      "cell_type": "code",
      "execution_count": 5,
      "metadata": {
        "id": "gBn99hVJP25v"
      },
      "outputs": [],
      "source": [
        "# opening JSON and making a tibble out of it\n",
        "\n",
        "raw_second_exp <- fromJSON(\n",
        "    'https://raw.githubusercontent.com/KatiaKozlova/stat-project/refs/heads/main/results/exp2/results_exp2.json',\n",
        "    flatten=TRUE\n",
        "    ) %>% as_tibble()"
      ]
    },
    {
      "cell_type": "code",
      "source": [
        "# reframing and transposing into a dataframe\n",
        "\n",
        "flatten_second_exp <- raw_second_exp %>%\n",
        "  mutate(across(where(is.list), as.character))\n",
        "\n",
        "second_exp <- flatten_second_exp[-1] %>%\n",
        "  t() %>%\n",
        "    as.data.frame() %>%\n",
        "      setNames(\n",
        "        c('id_person', 'id_item',\n",
        "        'id_list', 'adjective',\n",
        "        'filler', 'judgement',\n",
        "        'print_time', 'judge_time')\n",
        "        )"
      ],
      "metadata": {
        "id": "23s3skwiQC02"
      },
      "execution_count": 6,
      "outputs": []
    },
    {
      "cell_type": "code",
      "source": [
        "# converting columns to numeric type\n",
        "\n",
        "second_exp <- transform(\n",
        "    second_exp,\n",
        "    judgement = as.numeric(judgement),\n",
        "    print_time = as.numeric(print_time),\n",
        "    judge_time = as.numeric(judge_time)\n",
        "    )"
      ],
      "metadata": {
        "id": "Wr4Xrs1z9HQt"
      },
      "execution_count": 7,
      "outputs": []
    },
    {
      "cell_type": "code",
      "source": [
        "# creating a column with timing of each answer\n",
        "\n",
        "second_exp$clean_time <- (second_exp$judge_time - second_exp$print_time) / 1000"
      ],
      "metadata": {
        "id": "y632GgARUdXP"
      },
      "execution_count": 8,
      "outputs": []
    },
    {
      "cell_type": "markdown",
      "source": [
        "### **Data pre-processing**:"
      ],
      "metadata": {
        "id": "P5HspTa5vugS"
      }
    },
    {
      "cell_type": "markdown",
      "source": [
        "1. First, we want to delete all the people whose answers on control questions were wrong, since they do not pass the adequacy test.\n",
        "There were three control questions:\n",
        "\n",
        "> 0: *Только самый маленький смурф принёс с собой бахилы. ⇝ Самый большой смурф принёс с собой бахилы.*<br>(*Only the smallest Smurf brought shoe covers with him. ⇝ The biggest Smurf brought shoe covers with him.*)\n",
        "\n",
        "> 00: *Клёпа забыла, что в столовой не принимают карты. ⇝ В столовой не принимают карты.*<br>(*Cleopatra forgot that they don't accept cards in the dining room. ⇝ The dining room does not accept cards.*)\n",
        "\n",
        "> 000: *В группе нет никого зануднее Андрея. ⇝ Андрей самый занудный в группе.*<br>(*There is no one in the group more nerdy than Andrew. ⇝ Andrew is the most nerdy in the group.*)\n",
        "\n",
        "The answers to them are obviously *False*, *True* and *True*, accordingly. We accepted 4 and 5 as true judgements, and 1 and 2 as false judgements."
      ],
      "metadata": {
        "id": "Obl_iGx0zbfJ"
      }
    },
    {
      "cell_type": "code",
      "source": [
        "# illustations\n",
        "\n",
        "stimuli <- read.csv(\n",
        "    'https://raw.githubusercontent.com/KatiaKozlova/stat-project/refs/heads/main/results/exp2/stimuli_exp2.csv',\n",
        "    colClasses=c('item'='character')\n",
        "    )\n",
        "\n",
        "head(stimuli[stimuli$item %in% c('0', '00', '000'), ], 3)"
      ],
      "metadata": {
        "colab": {
          "base_uri": "https://localhost:8080/",
          "height": 192
        },
        "id": "QfLztI4u6Joz",
        "outputId": "bc05c657-b349-4531-a8bd-762ccdb36b8e"
      },
      "execution_count": 9,
      "outputs": [
        {
          "output_type": "display_data",
          "data": {
            "text/html": [
              "<table class=\"dataframe\">\n",
              "<caption>A data.frame: 3 × 7</caption>\n",
              "<thead>\n",
              "\t<tr><th></th><th scope=col>code</th><th scope=col>group</th><th scope=col>item</th><th scope=col>adj</th><th scope=col>filler</th><th scope=col>item_text</th><th scope=col>item_goal</th></tr>\n",
              "\t<tr><th></th><th scope=col>&lt;int&gt;</th><th scope=col>&lt;chr&gt;</th><th scope=col>&lt;chr&gt;</th><th scope=col>&lt;chr&gt;</th><th scope=col>&lt;chr&gt;</th><th scope=col>&lt;chr&gt;</th><th scope=col>&lt;chr&gt;</th></tr>\n",
              "</thead>\n",
              "<tbody>\n",
              "\t<tr><th scope=row>1</th><td>1221099</td><td>A</td><td>0  </td><td>-</td><td>control</td><td>Только самый маленький смурф принёс с собой бахилы.</td><td>Самый большой смурф принёс с собой бахилы.</td></tr>\n",
              "\t<tr><th scope=row>2</th><td>1221099</td><td>A</td><td>00 </td><td>-</td><td>control</td><td>Клёпа забыла, что в столовой не принимают карты.   </td><td>В столовой не принимают карты.            </td></tr>\n",
              "\t<tr><th scope=row>3</th><td>1221099</td><td>A</td><td>000</td><td>-</td><td>control</td><td>В группе нет никого зануднее Андрея.               </td><td>Андрей самый занудный в группе.           </td></tr>\n",
              "</tbody>\n",
              "</table>\n"
            ],
            "text/markdown": "\nA data.frame: 3 × 7\n\n| <!--/--> | code &lt;int&gt; | group &lt;chr&gt; | item &lt;chr&gt; | adj &lt;chr&gt; | filler &lt;chr&gt; | item_text &lt;chr&gt; | item_goal &lt;chr&gt; |\n|---|---|---|---|---|---|---|---|\n| 1 | 1221099 | A | 0   | - | control | Только самый маленький смурф принёс с собой бахилы. | Самый большой смурф принёс с собой бахилы. |\n| 2 | 1221099 | A | 00  | - | control | Клёпа забыла, что в столовой не принимают карты.    | В столовой не принимают карты.             |\n| 3 | 1221099 | A | 000 | - | control | В группе нет никого зануднее Андрея.                | Андрей самый занудный в группе.            |\n\n",
            "text/latex": "A data.frame: 3 × 7\n\\begin{tabular}{r|lllllll}\n  & code & group & item & adj & filler & item\\_text & item\\_goal\\\\\n  & <int> & <chr> & <chr> & <chr> & <chr> & <chr> & <chr>\\\\\n\\hline\n\t1 & 1221099 & A & 0   & - & control & Только самый маленький смурф принёс с собой бахилы. & Самый большой смурф принёс с собой бахилы.\\\\\n\t2 & 1221099 & A & 00  & - & control & Клёпа забыла, что в столовой не принимают карты.    & В столовой не принимают карты.            \\\\\n\t3 & 1221099 & A & 000 & - & control & В группе нет никого зануднее Андрея.                & Андрей самый занудный в группе.           \\\\\n\\end{tabular}\n",
            "text/plain": [
              "  code    group item adj filler \n",
              "1 1221099 A     0    -   control\n",
              "2 1221099 A     00   -   control\n",
              "3 1221099 A     000  -   control\n",
              "  item_text                                          \n",
              "1 Только самый маленький смурф принёс с собой бахилы.\n",
              "2 Клёпа забыла, что в столовой не принимают карты.   \n",
              "3 В группе нет никого зануднее Андрея.               \n",
              "  item_goal                                 \n",
              "1 Самый большой смурф принёс с собой бахилы.\n",
              "2 В столовой не принимают карты.            \n",
              "3 Андрей самый занудный в группе.           "
            ]
          },
          "metadata": {}
        }
      ]
    },
    {
      "cell_type": "code",
      "source": [
        "# creating a df with control questions\n",
        "\n",
        "control_questions <- second_exp[second_exp$filler == 'control',]"
      ],
      "metadata": {
        "id": "lg6BiuzdVUgQ"
      },
      "execution_count": 10,
      "outputs": []
    },
    {
      "cell_type": "code",
      "source": [
        "# spotting unadequate judgments\n",
        "\n",
        "unadequate_0 <- control_questions[control_questions$id_item == '0' & !(control_questions$judgement %in% c('1', '2')),]$id_person\n",
        "unadequate_00 <- control_questions[control_questions$id_item == '00' & !(control_questions$judgement %in% c('4', '5')),]$id_person\n",
        "unadequate_000 <- control_questions[control_questions$id_item == '000' & !(control_questions$judgement %in% c('4', '5')),]$id_person\n",
        "\n",
        "unadequates <- unique(c(unadequate_0, unadequate_00, unadequate_000))"
      ],
      "metadata": {
        "id": "mCwWt3kL62_u"
      },
      "execution_count": 11,
      "outputs": []
    },
    {
      "cell_type": "code",
      "source": [
        "# deleting these users\n",
        "\n",
        "second_exp <- second_exp[!(second_exp$id_person %in% unadequates),]"
      ],
      "metadata": {
        "id": "mDq2E5i58P5v"
      },
      "execution_count": 12,
      "outputs": []
    },
    {
      "cell_type": "markdown",
      "source": [
        "2. Second, among other means, we were also using *Yandex.Toloka*, which allow its' users to get paid for completing easy tasks, such as filling in some questioners. However, one of its' problems include an \"unfair game\" where subjects may choose answers randomly. Thus, we want to manually detect such users that their timing repeatedly was less than a second per answer and delete them as outliers."
      ],
      "metadata": {
        "id": "wFWrnHGxv564"
      }
    },
    {
      "cell_type": "code",
      "source": [
        "# detecting automatic answers\n",
        "\n",
        "automatic_answers <- second_exp[second_exp$clean_time < 1,] %>%\n",
        "  group_by(id_person) %>%\n",
        "    summarise(n = n())\n",
        "\n",
        "automatic_answers <- automatic_answers[automatic_answers$n > 1,]"
      ],
      "metadata": {
        "id": "pxpRfz30sYBz"
      },
      "execution_count": 13,
      "outputs": []
    },
    {
      "cell_type": "code",
      "source": [
        "# deleting the only unfair player left\n",
        "\n",
        "second_exp <- second_exp[!(second_exp$id_person %in% automatic_answers$id_person),]"
      ],
      "metadata": {
        "id": "bJx_CwMTtTej"
      },
      "execution_count": 14,
      "outputs": []
    },
    {
      "cell_type": "code",
      "source": [
        "# illustrating via boxplot\n",
        "\n",
        "boxplot(control_questions$clean_time,\n",
        "  ylab = 'time, s',\n",
        "  main = 'Box plot with control questions'\n",
        ")"
      ],
      "metadata": {
        "colab": {
          "base_uri": "https://localhost:8080/",
          "height": 437
        },
        "id": "Lwh_sc1tWun_",
        "outputId": "c75ac328-f8ab-4c03-c088-de1bc2787e2e"
      },
      "execution_count": 15,
      "outputs": [
        {
          "output_type": "display_data",
          "data": {
            "text/plain": [
              "Plot with title “Box plot with control questions”"
            ],
            "image/png": "[encoded data removed]"
          },
          "metadata": {
            "image/png": {
              "width": 420,
              "height": 420
            }
          }
        }
      ]
    },
    {
      "cell_type": "markdown",
      "source": [
        "3. Third, there are still some random unique outliers:\n",
        "    - time of answer is more than 100s,\n",
        "    - time of answer is less than 1s."
      ],
      "metadata": {
        "id": "nZBmMzLSEWDi"
      }
    },
    {
      "cell_type": "code",
      "source": [
        "summary(second_exp$clean_time)"
      ],
      "metadata": {
        "colab": {
          "base_uri": "https://localhost:8080/",
          "height": 52
        },
        "id": "BX_EK_KS034J",
        "outputId": "065116ff-70e6-44c6-e10c-dc2429e46892"
      },
      "execution_count": 16,
      "outputs": [
        {
          "output_type": "display_data",
          "data": {
            "text/plain": [
              "    Min.  1st Qu.   Median     Mean  3rd Qu.     Max. \n",
              "   0.437    5.657    8.209   13.980   11.691 4155.141 "
            ]
          },
          "metadata": {}
        }
      ]
    },
    {
      "cell_type": "code",
      "source": [
        "second_exp <- second_exp[second_exp$clean_time < 100 & second_exp$clean_time > 1,]"
      ],
      "metadata": {
        "id": "86FYwb_1FThk"
      },
      "execution_count": 17,
      "outputs": []
    },
    {
      "cell_type": "markdown",
      "source": [
        "### **Calculating the statistics**"
      ],
      "metadata": {
        "id": "X7OM_9711AKL"
      }
    },
    {
      "cell_type": "markdown",
      "source": [
        "#### *General statistics*"
      ],
      "metadata": {
        "id": "tIA32xfi3oU4"
      }
    },
    {
      "cell_type": "code",
      "source": [
        "# visualizing number of subjects per sheet\n",
        "\n",
        "grouped_data <- second_exp %>%\n",
        "  group_by(id_list) %>%\n",
        "    summarise(n_people = n_distinct(id_person))\n",
        "\n",
        "barplot(\n",
        "    height=pull(grouped_data, n_people),\n",
        "    names=pull(grouped_data, id_list),\n",
        "    ylab='subjects',\n",
        "    main='Number of subjects per sheet'\n",
        "    )"
      ],
      "metadata": {
        "colab": {
          "base_uri": "https://localhost:8080/",
          "height": 437
        },
        "id": "ZhBgJQ6OGytN",
        "outputId": "7f246757-c4c7-44df-ca82-a4050cb9478b"
      },
      "execution_count": 18,
      "outputs": [
        {
          "output_type": "display_data",
          "data": {
            "text/plain": [
              "Plot with title “Number of subjects per sheet”"
            ],
            "image/png": "[encoded data removed]"
          },
          "metadata": {
            "image/png": {
              "width": 420,
              "height": 420
            }
          }
        }
      ]
    },
    {
      "cell_type": "code",
      "source": [
        "# time summary\n",
        "\n",
        "summary(second_exp$clean_time)"
      ],
      "metadata": {
        "colab": {
          "base_uri": "https://localhost:8080/",
          "height": 52
        },
        "id": "d8Z0NxF9GVYK",
        "outputId": "0ea3da91-25fc-416f-e6e8-fc58bb423143"
      },
      "execution_count": 19,
      "outputs": [
        {
          "output_type": "display_data",
          "data": {
            "text/plain": [
              "   Min. 1st Qu.  Median    Mean 3rd Qu.    Max. \n",
              "  1.467   5.657   8.202   9.940  11.666  86.977 "
            ]
          },
          "metadata": {}
        }
      ]
    },
    {
      "cell_type": "code",
      "source": [
        "# illustrating time via boxplot and histogram\n",
        "\n",
        "plt1 <- second_exp %>% select(clean_time) %>%\n",
        "  ggplot(aes(x='', y = clean_time)) +\n",
        "  geom_boxplot(fill = 'grey', color = 'black') +\n",
        "  coord_flip() +\n",
        "  theme_classic() +\n",
        "  xlab('') +\n",
        "  ylab('Clean time, s') +\n",
        "  theme(axis.text.y=element_blank(),\n",
        "        axis.ticks.y=element_blank())\n",
        "\n",
        "plt2 <- second_exp %>% select(clean_time) %>%\n",
        "  ggplot() +\n",
        "  geom_histogram(aes(x = clean_time, y = after_stat(count)/sum(after_stat(count))),\n",
        "                 position = 'identity', binwidth = 1,\n",
        "                 fill = 'grey', color = 'black') +\n",
        "  ylab('Relative Frequency') +\n",
        "  xlab('Clean time, s') +\n",
        "  theme_classic()"
      ],
      "metadata": {
        "id": "iU0CMO3M42Xo"
      },
      "execution_count": 20,
      "outputs": []
    },
    {
      "cell_type": "code",
      "source": [
        "egg::ggarrange(plt2, plt1, heights = 2:1)"
      ],
      "metadata": {
        "colab": {
          "base_uri": "https://localhost:8080/",
          "height": 437
        },
        "id": "8wLz-e6b5eYo",
        "outputId": "7e861b80-1f8e-4526-e7fb-4107070ab275"
      },
      "execution_count": 21,
      "outputs": [
        {
          "output_type": "display_data",
          "data": {
            "text/plain": [
              "plot without title"
            ],
            "image/png": "[encoded data removed]"
          },
          "metadata": {
            "image/png": {
              "width": 420,
              "height": 420
            }
          }
        }
      ]
    },
    {
      "cell_type": "markdown",
      "source": [
        "#### *Checking for normal distribution*"
      ],
      "metadata": {
        "id": "EVJ8UOGvLGBC"
      }
    },
    {
      "cell_type": "markdown",
      "source": [
        "First, we need to ensure reaction times are approximately normally distributed to use t-test."
      ],
      "metadata": {
        "id": "NTWEeImOLyeM"
      }
    },
    {
      "cell_type": "code",
      "source": [
        "# extracting baseline (controls), target and adjectives\n",
        "\n",
        "baseline_data <- subset(second_exp, filler == 'control')\n",
        "target_data <- subset(second_exp, filler == 'false')\n",
        "adjectives <- unique(target_data$adjective)\n",
        "groups <- as.numeric(unique(target_data[, c('id_item', 'adjective')])$id_item)"
      ],
      "metadata": {
        "id": "JPlpgFQkEJbO"
      },
      "execution_count": 98,
      "outputs": []
    },
    {
      "cell_type": "code",
      "source": [
        "# performing Shapiro-Wilk Test to test for normality\n",
        "# (assume that data is normally distributed)\n",
        "\n",
        "results <- list()\n",
        "\n",
        "for (adj in adjectives) {\n",
        "  adj_times <- target_data$clean_time[target_data$adjective == adj]\n",
        "  normal_result <- shapiro.test(adj_times)\n",
        "  results[[adj]] <- normal_result\n",
        "}"
      ],
      "metadata": {
        "id": "-W0c15LHA3Fz"
      },
      "execution_count": 99,
      "outputs": []
    },
    {
      "cell_type": "code",
      "source": [
        "# extracting and displaying p-values\n",
        "\n",
        "p_values <- sapply(results, function(x) round(x$p.value, 5))\n",
        "result <- data.frame(\n",
        "  group = groups,\n",
        "  pvalue = p_values\n",
        ")\n",
        "result <- result[order(result$group),]"
      ],
      "metadata": {
        "id": "ezcUFmztA0hh"
      },
      "execution_count": 100,
      "outputs": []
    },
    {
      "cell_type": "code",
      "source": [
        "result"
      ],
      "metadata": {
        "id": "EhtWNaEAWjIt",
        "outputId": "add763a5-2985-4cbb-a092-4be50492a2ea",
        "colab": {
          "base_uri": "https://localhost:8080/",
          "height": 850
        }
      },
      "execution_count": 101,
      "outputs": [
        {
          "output_type": "display_data",
          "data": {
            "text/html": [
              "<table class=\"dataframe\">\n",
              "<caption>A data.frame: 24 × 2</caption>\n",
              "<thead>\n",
              "\t<tr><th></th><th scope=col>group</th><th scope=col>pvalue</th></tr>\n",
              "\t<tr><th></th><th scope=col>&lt;dbl&gt;</th><th scope=col>&lt;dbl&gt;</th></tr>\n",
              "</thead>\n",
              "<tbody>\n",
              "\t<tr><th scope=row>грязная</th><td> 8</td><td>0.00041</td></tr>\n",
              "\t<tr><th scope=row>чистая</th><td> 8</td><td>0.00981</td></tr>\n",
              "\t<tr><th scope=row>холодная</th><td> 9</td><td>0.49028</td></tr>\n",
              "\t<tr><th scope=row>горячая</th><td> 9</td><td>0.01184</td></tr>\n",
              "\t<tr><th scope=row>щедрая</th><td>10</td><td>0.00001</td></tr>\n",
              "\t<tr><th scope=row>скупая</th><td>10</td><td>0.00000</td></tr>\n",
              "\t<tr><th scope=row>светлая</th><td>11</td><td>0.00976</td></tr>\n",
              "\t<tr><th scope=row>тёмная</th><td>11</td><td>0.38185</td></tr>\n",
              "\t<tr><th scope=row>красивая</th><td>12</td><td>0.00060</td></tr>\n",
              "\t<tr><th scope=row>уродливая</th><td>12</td><td>0.00248</td></tr>\n",
              "\t<tr><th scope=row>трудолюбивая</th><td>13</td><td>0.00340</td></tr>\n",
              "\t<tr><th scope=row>ленивая</th><td>13</td><td>0.00233</td></tr>\n",
              "\t<tr><th scope=row>быстрая</th><td>14</td><td>0.00345</td></tr>\n",
              "\t<tr><th scope=row>медленная</th><td>14</td><td>0.65769</td></tr>\n",
              "\t<tr><th scope=row>добрая</th><td>15</td><td>0.00000</td></tr>\n",
              "\t<tr><th scope=row>злая</th><td>15</td><td>0.06211</td></tr>\n",
              "\t<tr><th scope=row>умная</th><td>16</td><td>0.00080</td></tr>\n",
              "\t<tr><th scope=row>тупая</th><td>16</td><td>0.00012</td></tr>\n",
              "\t<tr><th scope=row>трусливая</th><td>17</td><td>0.00002</td></tr>\n",
              "\t<tr><th scope=row>храбрая</th><td>17</td><td>0.01356</td></tr>\n",
              "\t<tr><th scope=row>лёгкая</th><td>18</td><td>0.00013</td></tr>\n",
              "\t<tr><th scope=row>тяжёлая</th><td>18</td><td>0.00131</td></tr>\n",
              "\t<tr><th scope=row>низкая</th><td>19</td><td>0.00000</td></tr>\n",
              "\t<tr><th scope=row>высокая</th><td>19</td><td>0.00016</td></tr>\n",
              "</tbody>\n",
              "</table>\n"
            ],
            "text/markdown": "\nA data.frame: 24 × 2\n\n| <!--/--> | group &lt;dbl&gt; | pvalue &lt;dbl&gt; |\n|---|---|---|\n| грязная |  8 | 0.00041 |\n| чистая |  8 | 0.00981 |\n| холодная |  9 | 0.49028 |\n| горячая |  9 | 0.01184 |\n| щедрая | 10 | 0.00001 |\n| скупая | 10 | 0.00000 |\n| светлая | 11 | 0.00976 |\n| тёмная | 11 | 0.38185 |\n| красивая | 12 | 0.00060 |\n| уродливая | 12 | 0.00248 |\n| трудолюбивая | 13 | 0.00340 |\n| ленивая | 13 | 0.00233 |\n| быстрая | 14 | 0.00345 |\n| медленная | 14 | 0.65769 |\n| добрая | 15 | 0.00000 |\n| злая | 15 | 0.06211 |\n| умная | 16 | 0.00080 |\n| тупая | 16 | 0.00012 |\n| трусливая | 17 | 0.00002 |\n| храбрая | 17 | 0.01356 |\n| лёгкая | 18 | 0.00013 |\n| тяжёлая | 18 | 0.00131 |\n| низкая | 19 | 0.00000 |\n| высокая | 19 | 0.00016 |\n\n",
            "text/latex": "A data.frame: 24 × 2\n\\begin{tabular}{r|ll}\n  & group & pvalue\\\\\n  & <dbl> & <dbl>\\\\\n\\hline\n\tгрязная &  8 & 0.00041\\\\\n\tчистая &  8 & 0.00981\\\\\n\tхолодная &  9 & 0.49028\\\\\n\tгорячая &  9 & 0.01184\\\\\n\tщедрая & 10 & 0.00001\\\\\n\tскупая & 10 & 0.00000\\\\\n\tсветлая & 11 & 0.00976\\\\\n\tтёмная & 11 & 0.38185\\\\\n\tкрасивая & 12 & 0.00060\\\\\n\tуродливая & 12 & 0.00248\\\\\n\tтрудолюбивая & 13 & 0.00340\\\\\n\tленивая & 13 & 0.00233\\\\\n\tбыстрая & 14 & 0.00345\\\\\n\tмедленная & 14 & 0.65769\\\\\n\tдобрая & 15 & 0.00000\\\\\n\tзлая & 15 & 0.06211\\\\\n\tумная & 16 & 0.00080\\\\\n\tтупая & 16 & 0.00012\\\\\n\tтрусливая & 17 & 0.00002\\\\\n\tхрабрая & 17 & 0.01356\\\\\n\tлёгкая & 18 & 0.00013\\\\\n\tтяжёлая & 18 & 0.00131\\\\\n\tнизкая & 19 & 0.00000\\\\\n\tвысокая & 19 & 0.00016\\\\\n\\end{tabular}\n",
            "text/plain": [
              "             group pvalue \n",
              "грязная       8    0.00041\n",
              "чистая        8    0.00981\n",
              "холодная      9    0.49028\n",
              "горячая       9    0.01184\n",
              "щедрая       10    0.00001\n",
              "скупая       10    0.00000\n",
              "светлая      11    0.00976\n",
              "тёмная       11    0.38185\n",
              "красивая     12    0.00060\n",
              "уродливая    12    0.00248\n",
              "трудолюбивая 13    0.00340\n",
              "ленивая      13    0.00233\n",
              "быстрая      14    0.00345\n",
              "медленная    14    0.65769\n",
              "добрая       15    0.00000\n",
              "злая         15    0.06211\n",
              "умная        16    0.00080\n",
              "тупая        16    0.00012\n",
              "трусливая    17    0.00002\n",
              "храбрая      17    0.01356\n",
              "лёгкая       18    0.00013\n",
              "тяжёлая      18    0.00131\n",
              "низкая       19    0.00000\n",
              "высокая      19    0.00016"
            ]
          },
          "metadata": {}
        }
      ]
    },
    {
      "cell_type": "markdown",
      "source": [
        "As you can see, the null hypothesis is violated for almost every adjective. Thus, we can say that reaction times are **not** normally distributed."
      ],
      "metadata": {
        "id": "YMjh4JXbLCor"
      }
    },
    {
      "cell_type": "markdown",
      "source": [
        "#### *Non-parametric approach*"
      ],
      "metadata": {
        "id": "PhmS8XLxLo4t"
      }
    },
    {
      "cell_type": "markdown",
      "source": [
        "Let's try Wilcoxon rank-sum test with comuting Cliff's delta then.\n",
        "\n",
        "- Significant p-value ($\\text{adjusted_pvalue} < 0.05$): *the adjective's reaction time distribution differs significantly from the baseline*.\n",
        "\n",
        "- Cliff's delta:\n",
        "    - $|Δ| > 0.147$: *small effect*.\n",
        "    - $|Δ| > 0.33$: *medium effect*.\n",
        "    - $|Δ| > 0.474$: *large effect*."
      ],
      "metadata": {
        "id": "VQ4Zo8v7MEUV"
      }
    },
    {
      "cell_type": "code",
      "source": [
        "# performing Wilcoxon rank-sum test\n",
        "\n",
        "wilcox_results <- list()\n",
        "\n",
        "for (adj in adjectives) {\n",
        "  adj_times <- target_data$clean_time[target_data$adjective == adj]\n",
        "  test_result <- wilcox.test(adj_times, baseline_data$clean_time)\n",
        "  wilcox_results[[adj]] <- test_result\n",
        "}"
      ],
      "metadata": {
        "id": "nvKr49k3F3PK"
      },
      "execution_count": 102,
      "outputs": []
    },
    {
      "cell_type": "code",
      "source": [
        "# extracting p-values, adjusting for multiple testing and creating results table\n",
        "\n",
        "p_values <- sapply(wilcox_results, function(x) x$p.value)\n",
        "adjusted_p <- p.adjust(p_values, method = 'fdr')\n",
        "\n",
        "results_table <- data.frame(\n",
        "  group = groups,\n",
        "  pvalue = p_values,\n",
        "  adjusted_pvalue = adjusted_p\n",
        ")"
      ],
      "metadata": {
        "id": "hSzrKukAMfPy"
      },
      "execution_count": 103,
      "outputs": []
    },
    {
      "cell_type": "code",
      "source": [
        "# сomputing Cliff's delta for each adjective\n",
        "\n",
        "cliff_results <- list()\n",
        "\n",
        "for (adj in adjectives) {\n",
        "  adj_times <- target_data$clean_time[target_data$adjective == adj]\n",
        "  delta <- cliff.delta(adj_times, baseline_data$clean_time)\n",
        "  cliff_results[[adj]] <- delta\n",
        "}"
      ],
      "metadata": {
        "id": "md95jDNWJgpe"
      },
      "execution_count": 104,
      "outputs": []
    },
    {
      "cell_type": "code",
      "source": [
        "# a function to interpret Cliff's deltas\n",
        "\n",
        "interpret_cliffs_delta <- function(delta) {\n",
        "  abs_delta <- abs(delta)\n",
        "  case_when(\n",
        "    abs_delta < 0.147 ~ 'negligible',\n",
        "    abs_delta < 0.33 ~ 'small',\n",
        "    abs_delta < 0.474 ~ 'medium',\n",
        "    TRUE ~ 'large'\n",
        "  )\n",
        "}"
      ],
      "metadata": {
        "id": "QOEHU6KhSN9R"
      },
      "execution_count": 105,
      "outputs": []
    },
    {
      "cell_type": "code",
      "source": [
        "# extracting Cliff's deltas, interpreting and adding to results table\n",
        "\n",
        "effect_sizes <- sapply(cliff_results, function(x) x$estimate)\n",
        "delta_effect <- interpret_cliffs_delta(effect_sizes)\n",
        "\n",
        "results_table$cliffs_delta <- effect_sizes\n",
        "results_table$delta_interpretation <- delta_effect\n",
        "results_table <- results_table[order(results_table$group),]"
      ],
      "metadata": {
        "id": "orTpBcX3O1R4"
      },
      "execution_count": 108,
      "outputs": []
    },
    {
      "cell_type": "code",
      "source": [
        "# the results\n",
        "\n",
        "results_table"
      ],
      "metadata": {
        "colab": {
          "base_uri": "https://localhost:8080/",
          "height": 850
        },
        "id": "wuKdVfmLP91G",
        "outputId": "4c9258d8-0956-455f-9091-b8f3c1730b5a"
      },
      "execution_count": 109,
      "outputs": [
        {
          "output_type": "display_data",
          "data": {
            "text/html": [
              "<table class=\"dataframe\">\n",
              "<caption>A data.frame: 24 × 5</caption>\n",
              "<thead>\n",
              "\t<tr><th></th><th scope=col>group</th><th scope=col>pvalue</th><th scope=col>adjusted_pvalue</th><th scope=col>cliffs_delta</th><th scope=col>delta_interpretation</th></tr>\n",
              "\t<tr><th></th><th scope=col>&lt;dbl&gt;</th><th scope=col>&lt;dbl&gt;</th><th scope=col>&lt;dbl&gt;</th><th scope=col>&lt;dbl&gt;</th><th scope=col>&lt;chr&gt;</th></tr>\n",
              "</thead>\n",
              "<tbody>\n",
              "\t<tr><th scope=row>грязная</th><td> 8</td><td>0.835222283</td><td>0.91115158</td><td> 0.026278070</td><td>negligible</td></tr>\n",
              "\t<tr><th scope=row>чистая</th><td> 8</td><td>0.150977002</td><td>0.25881772</td><td> 0.167684168</td><td>small     </td></tr>\n",
              "\t<tr><th scope=row>холодная</th><td> 9</td><td>0.000797953</td><td>0.01915087</td><td> 0.421245421</td><td>medium    </td></tr>\n",
              "\t<tr><th scope=row>горячая</th><td> 9</td><td>0.131701529</td><td>0.25881772</td><td> 0.179064525</td><td>small     </td></tr>\n",
              "\t<tr><th scope=row>щедрая</th><td>10</td><td>0.729148684</td><td>0.83331278</td><td> 0.043637522</td><td>negligible</td></tr>\n",
              "\t<tr><th scope=row>скупая</th><td>10</td><td>0.033532902</td><td>0.11308294</td><td> 0.248134581</td><td>small     </td></tr>\n",
              "\t<tr><th scope=row>светлая</th><td>11</td><td>0.985832842</td><td>0.98583284</td><td>-0.002388915</td><td>negligible</td></tr>\n",
              "\t<tr><th scope=row>тёмная</th><td>11</td><td>0.215995836</td><td>0.32399375</td><td> 0.144485144</td><td>negligible</td></tr>\n",
              "\t<tr><th scope=row>красивая</th><td>12</td><td>0.008620653</td><td>0.06896522</td><td> 0.329988852</td><td>small     </td></tr>\n",
              "\t<tr><th scope=row>уродливая</th><td>12</td><td>0.019124632</td><td>0.09179823</td><td> 0.273504274</td><td>small     </td></tr>\n",
              "\t<tr><th scope=row>трудолюбивая</th><td>13</td><td>0.028036638</td><td>0.11214655</td><td> 0.275999363</td><td>small     </td></tr>\n",
              "\t<tr><th scope=row>ленивая</th><td>13</td><td>0.006216692</td><td>0.06896522</td><td> 0.319359653</td><td>small     </td></tr>\n",
              "\t<tr><th scope=row>быстрая</th><td>14</td><td>0.143217371</td><td>0.25881772</td><td> 0.180402930</td><td>small     </td></tr>\n",
              "\t<tr><th scope=row>медленная</th><td>14</td><td>0.213315399</td><td>0.32399375</td><td> 0.180133592</td><td>small     </td></tr>\n",
              "\t<tr><th scope=row>добрая</th><td>15</td><td>0.711838997</td><td>0.83331278</td><td> 0.045634921</td><td>negligible</td></tr>\n",
              "\t<tr><th scope=row>злая</th><td>15</td><td>0.646519315</td><td>0.81665598</td><td>-0.068452381</td><td>negligible</td></tr>\n",
              "\t<tr><th scope=row>умная</th><td>16</td><td>0.101536069</td><td>0.22153324</td><td>-0.201770452</td><td>small     </td></tr>\n",
              "\t<tr><th scope=row>тупая</th><td>16</td><td>0.043278831</td><td>0.11308294</td><td>-0.292393881</td><td>small     </td></tr>\n",
              "\t<tr><th scope=row>трусливая</th><td>17</td><td>0.631435232</td><td>0.81665598</td><td>-0.059218559</td><td>negligible</td></tr>\n",
              "\t<tr><th scope=row>храбрая</th><td>17</td><td>0.047117893</td><td>0.11308294</td><td>-0.287222581</td><td>small     </td></tr>\n",
              "\t<tr><th scope=row>лёгкая</th><td>18</td><td>0.039031103</td><td>0.11308294</td><td> 0.254273504</td><td>small     </td></tr>\n",
              "\t<tr><th scope=row>тяжёлая</th><td>18</td><td>0.268128838</td><td>0.37853483</td><td> 0.160310278</td><td>small     </td></tr>\n",
              "\t<tr><th scope=row>низкая</th><td>19</td><td>0.966383211</td><td>0.98583284</td><td> 0.005341880</td><td>negligible</td></tr>\n",
              "\t<tr><th scope=row>высокая</th><td>19</td><td>0.012810268</td><td>0.07686161</td><td>-0.360051713</td><td>medium    </td></tr>\n",
              "</tbody>\n",
              "</table>\n"
            ],
            "text/markdown": "\nA data.frame: 24 × 5\n\n| <!--/--> | group &lt;dbl&gt; | pvalue &lt;dbl&gt; | adjusted_pvalue &lt;dbl&gt; | cliffs_delta &lt;dbl&gt; | delta_interpretation &lt;chr&gt; |\n|---|---|---|---|---|---|\n| грязная |  8 | 0.835222283 | 0.91115158 |  0.026278070 | negligible |\n| чистая |  8 | 0.150977002 | 0.25881772 |  0.167684168 | small      |\n| холодная |  9 | 0.000797953 | 0.01915087 |  0.421245421 | medium     |\n| горячая |  9 | 0.131701529 | 0.25881772 |  0.179064525 | small      |\n| щедрая | 10 | 0.729148684 | 0.83331278 |  0.043637522 | negligible |\n| скупая | 10 | 0.033532902 | 0.11308294 |  0.248134581 | small      |\n| светлая | 11 | 0.985832842 | 0.98583284 | -0.002388915 | negligible |\n| тёмная | 11 | 0.215995836 | 0.32399375 |  0.144485144 | negligible |\n| красивая | 12 | 0.008620653 | 0.06896522 |  0.329988852 | small      |\n| уродливая | 12 | 0.019124632 | 0.09179823 |  0.273504274 | small      |\n| трудолюбивая | 13 | 0.028036638 | 0.11214655 |  0.275999363 | small      |\n| ленивая | 13 | 0.006216692 | 0.06896522 |  0.319359653 | small      |\n| быстрая | 14 | 0.143217371 | 0.25881772 |  0.180402930 | small      |\n| медленная | 14 | 0.213315399 | 0.32399375 |  0.180133592 | small      |\n| добрая | 15 | 0.711838997 | 0.83331278 |  0.045634921 | negligible |\n| злая | 15 | 0.646519315 | 0.81665598 | -0.068452381 | negligible |\n| умная | 16 | 0.101536069 | 0.22153324 | -0.201770452 | small      |\n| тупая | 16 | 0.043278831 | 0.11308294 | -0.292393881 | small      |\n| трусливая | 17 | 0.631435232 | 0.81665598 | -0.059218559 | negligible |\n| храбрая | 17 | 0.047117893 | 0.11308294 | -0.287222581 | small      |\n| лёгкая | 18 | 0.039031103 | 0.11308294 |  0.254273504 | small      |\n| тяжёлая | 18 | 0.268128838 | 0.37853483 |  0.160310278 | small      |\n| низкая | 19 | 0.966383211 | 0.98583284 |  0.005341880 | negligible |\n| высокая | 19 | 0.012810268 | 0.07686161 | -0.360051713 | medium     |\n\n",
            "text/latex": "A data.frame: 24 × 5\n\\begin{tabular}{r|lllll}\n  & group & pvalue & adjusted\\_pvalue & cliffs\\_delta & delta\\_interpretation\\\\\n  & <dbl> & <dbl> & <dbl> & <dbl> & <chr>\\\\\n\\hline\n\tгрязная &  8 & 0.835222283 & 0.91115158 &  0.026278070 & negligible\\\\\n\tчистая &  8 & 0.150977002 & 0.25881772 &  0.167684168 & small     \\\\\n\tхолодная &  9 & 0.000797953 & 0.01915087 &  0.421245421 & medium    \\\\\n\tгорячая &  9 & 0.131701529 & 0.25881772 &  0.179064525 & small     \\\\\n\tщедрая & 10 & 0.729148684 & 0.83331278 &  0.043637522 & negligible\\\\\n\tскупая & 10 & 0.033532902 & 0.11308294 &  0.248134581 & small     \\\\\n\tсветлая & 11 & 0.985832842 & 0.98583284 & -0.002388915 & negligible\\\\\n\tтёмная & 11 & 0.215995836 & 0.32399375 &  0.144485144 & negligible\\\\\n\tкрасивая & 12 & 0.008620653 & 0.06896522 &  0.329988852 & small     \\\\\n\tуродливая & 12 & 0.019124632 & 0.09179823 &  0.273504274 & small     \\\\\n\tтрудолюбивая & 13 & 0.028036638 & 0.11214655 &  0.275999363 & small     \\\\\n\tленивая & 13 & 0.006216692 & 0.06896522 &  0.319359653 & small     \\\\\n\tбыстрая & 14 & 0.143217371 & 0.25881772 &  0.180402930 & small     \\\\\n\tмедленная & 14 & 0.213315399 & 0.32399375 &  0.180133592 & small     \\\\\n\tдобрая & 15 & 0.711838997 & 0.83331278 &  0.045634921 & negligible\\\\\n\tзлая & 15 & 0.646519315 & 0.81665598 & -0.068452381 & negligible\\\\\n\tумная & 16 & 0.101536069 & 0.22153324 & -0.201770452 & small     \\\\\n\tтупая & 16 & 0.043278831 & 0.11308294 & -0.292393881 & small     \\\\\n\tтрусливая & 17 & 0.631435232 & 0.81665598 & -0.059218559 & negligible\\\\\n\tхрабрая & 17 & 0.047117893 & 0.11308294 & -0.287222581 & small     \\\\\n\tлёгкая & 18 & 0.039031103 & 0.11308294 &  0.254273504 & small     \\\\\n\tтяжёлая & 18 & 0.268128838 & 0.37853483 &  0.160310278 & small     \\\\\n\tнизкая & 19 & 0.966383211 & 0.98583284 &  0.005341880 & negligible\\\\\n\tвысокая & 19 & 0.012810268 & 0.07686161 & -0.360051713 & medium    \\\\\n\\end{tabular}\n",
            "text/plain": [
              "             group pvalue      adjusted_pvalue cliffs_delta\n",
              "грязная       8    0.835222283 0.91115158       0.026278070\n",
              "чистая        8    0.150977002 0.25881772       0.167684168\n",
              "холодная      9    0.000797953 0.01915087       0.421245421\n",
              "горячая       9    0.131701529 0.25881772       0.179064525\n",
              "щедрая       10    0.729148684 0.83331278       0.043637522\n",
              "скупая       10    0.033532902 0.11308294       0.248134581\n",
              "светлая      11    0.985832842 0.98583284      -0.002388915\n",
              "тёмная       11    0.215995836 0.32399375       0.144485144\n",
              "красивая     12    0.008620653 0.06896522       0.329988852\n",
              "уродливая    12    0.019124632 0.09179823       0.273504274\n",
              "трудолюбивая 13    0.028036638 0.11214655       0.275999363\n",
              "ленивая      13    0.006216692 0.06896522       0.319359653\n",
              "быстрая      14    0.143217371 0.25881772       0.180402930\n",
              "медленная    14    0.213315399 0.32399375       0.180133592\n",
              "добрая       15    0.711838997 0.83331278       0.045634921\n",
              "злая         15    0.646519315 0.81665598      -0.068452381\n",
              "умная        16    0.101536069 0.22153324      -0.201770452\n",
              "тупая        16    0.043278831 0.11308294      -0.292393881\n",
              "трусливая    17    0.631435232 0.81665598      -0.059218559\n",
              "храбрая      17    0.047117893 0.11308294      -0.287222581\n",
              "лёгкая       18    0.039031103 0.11308294       0.254273504\n",
              "тяжёлая      18    0.268128838 0.37853483       0.160310278\n",
              "низкая       19    0.966383211 0.98583284       0.005341880\n",
              "высокая      19    0.012810268 0.07686161      -0.360051713\n",
              "             delta_interpretation\n",
              "грязная      negligible          \n",
              "чистая       small               \n",
              "холодная     medium              \n",
              "горячая      small               \n",
              "щедрая       negligible          \n",
              "скупая       small               \n",
              "светлая      negligible          \n",
              "тёмная       negligible          \n",
              "красивая     small               \n",
              "уродливая    small               \n",
              "трудолюбивая small               \n",
              "ленивая      small               \n",
              "быстрая      small               \n",
              "медленная    small               \n",
              "добрая       negligible          \n",
              "злая         negligible          \n",
              "умная        small               \n",
              "тупая        small               \n",
              "трусливая    negligible          \n",
              "храбрая      small               \n",
              "лёгкая       small               \n",
              "тяжёлая      small               \n",
              "низкая       negligible          \n",
              "высокая      medium              "
            ]
          },
          "metadata": {}
        }
      ]
    },
    {
      "cell_type": "code",
      "source": [
        "# visualizing\n",
        "\n",
        "options(repr.plot.width=15, repr.plot.height=8)\n",
        "\n",
        "plot_data <- rbind(\n",
        "  data.frame(Group = 'control', clean_time = baseline_data$clean_time),\n",
        "  data.frame(Group = target_data$adjective, clean_time = target_data$clean_time)\n",
        ")\n",
        "\n",
        "ggplot(plot_data, aes(x = Group, y = clean_time, fill = Group)) +\n",
        "  geom_boxplot() +\n",
        "  labs(title = 'Reaction Time Distribution by Adjective vs. Baseline',\n",
        "       x = 'Group', y = 'Reaction Time') +\n",
        "  theme_minimal() +\n",
        "  theme(axis.text.x = element_text(angle = 90, vjust = 0.5, hjust=1))"
      ],
      "metadata": {
        "colab": {
          "base_uri": "https://localhost:8080/",
          "height": 497
        },
        "id": "35itqOibKMxY",
        "outputId": "3a2c6f24-98b2-4a47-c76e-f5e1333933d9"
      },
      "execution_count": 110,
      "outputs": [
        {
          "output_type": "display_data",
          "data": {
            "text/plain": [
              "plot without title"
            ],
            "image/png": "[encoded data removed]"
          },
          "metadata": {
            "image/png": {
              "width": 900,
              "height": 480
            }
          }
        }
      ]
    },
    {
      "cell_type": "code",
      "source": [],
      "metadata": {
        "id": "zRtcwnCqSiDj"
      },
      "execution_count": null,
      "outputs": []
    }
  ]
}