{
  "nbformat": 4,
  "nbformat_minor": 0,
  "metadata": {
    "colab": {
      "provenance": [],
      "authorship_tag": "ABX9TyNimA8lWMUk5ulzf2rropro",
      "include_colab_link": true
    },
    "kernelspec": {
      "name": "ir",
      "display_name": "R"
    },
    "language_info": {
      "name": "R"
    }
  },
  "cells": [
    {
      "cell_type": "markdown",
      "metadata": {
        "id": "view-in-github",
        "colab_type": "text"
      },
      "source": [
        "<a href=\"https://colab.research.google.com/github/KatiaKozlova/stat-project/blob/main/stat_project.ipynb\" target=\"_parent\"><img src=\"https://colab.research.google.com/assets/colab-badge.svg\" alt=\"Open In Colab\"/></a>"
      ]
    },
    {
      "cell_type": "markdown",
      "source": [
        "# Experimental Research in Degree Semantics\n",
        "\n",
        "Notebook by *Daria Sidorkina* & *Kate Kozlova*"
      ],
      "metadata": {
        "id": "9tUjwTZYxCFU"
      }
    },
    {
      "cell_type": "markdown",
      "source": [
        "### **Libraries**:"
      ],
      "metadata": {
        "id": "_j2PbBv3xYVi"
      }
    },
    {
      "cell_type": "code",
      "source": [
        "knitr::opts_chunk$set(warning = FALSE, message = FALSE)"
      ],
      "metadata": {
        "id": "a0xJDuilPfv2"
      },
      "execution_count": 4,
      "outputs": []
    },
    {
      "cell_type": "code",
      "source": [
        "install.packages('rstatix')"
      ],
      "metadata": {
        "id": "pds4HMoWYNsP"
      },
      "execution_count": null,
      "outputs": []
    },
    {
      "cell_type": "code",
      "source": [
        "library(dplyr)\n",
        "library(tidyverse)\n",
        "library(jsonlite)\n",
        "library(rstatix)"
      ],
      "metadata": {
        "id": "4LACgPlcL4vB"
      },
      "execution_count": 9,
      "outputs": []
    },
    {
      "cell_type": "markdown",
      "source": [
        "## **Experiment 1**"
      ],
      "metadata": {
        "id": "98CR7OmsPI49"
      }
    },
    {
      "cell_type": "markdown",
      "source": [
        "### **Import of the collected data**:"
      ],
      "metadata": {
        "id": "F5X2y5I7xdR4"
      }
    },
    {
      "cell_type": "code",
      "execution_count": 1,
      "metadata": {
        "id": "6cRdyOY2FD1W"
      },
      "outputs": [],
      "source": [
        "lion_exp <- read.csv(\n",
        "    'https://raw.githubusercontent.com/KatiaKozlova/stat-project/refs/heads/main/results/exp1/results_exp1.csv'\n",
        "    )"
      ]
    },
    {
      "cell_type": "markdown",
      "source": [
        "### **Data pre-processing and statistics**:"
      ],
      "metadata": {
        "id": "BKRqXFRbyX94"
      }
    },
    {
      "cell_type": "code",
      "source": [
        "# omitting the time-stamps and division into 4 groups\n",
        "\n",
        "lion_exp <- lion_exp[, -c(1:2)]"
      ],
      "metadata": {
        "id": "eJIRArM1JnJQ"
      },
      "execution_count": null,
      "outputs": []
    },
    {
      "cell_type": "code",
      "source": [
        "# minimal, maximal, average of each sentence\n",
        "# number and standart deviation\n",
        "\n",
        "lion_exp_stats <- as.data.frame(t(sapply(\n",
        "    lion_exp,\n",
        "    function(x) c(\n",
        "        avg = mean(x, na.rm = TRUE),\n",
        "        min = min(x, na.rm = TRUE),\n",
        "        max = max(x, na.rm = TRUE),\n",
        "        st_dev = sd(x, na.rm = TRUE),\n",
        "        count = length(which(!is.na(x)))\n",
        "        )\n",
        "        )))"
      ],
      "metadata": {
        "id": "Jzsqp22wHLwB"
      },
      "execution_count": null,
      "outputs": []
    },
    {
      "cell_type": "code",
      "source": [
        "# adding rownames\n",
        "\n",
        "lion_exp_stats <- rownames_to_column(lion_exp_stats, var = \"stimuli\")\n",
        "lion_exp_stats <- tibble::rowid_to_column(lion_exp_stats, \"id\")"
      ],
      "metadata": {
        "id": "rzWDOLqVPAno"
      },
      "execution_count": null,
      "outputs": []
    },
    {
      "cell_type": "code",
      "source": [
        "# manually omitting fillers (only stimuli are left)\n",
        "\n",
        "lion_stimuli <- lion_exp_stats[\n",
        "    -c(1, 3, 6, 10, 11, 18, 19, 20,\n",
        "    24, 29, 34, 35, 37, 38, 39, 40,\n",
        "    43, 45, 46, 50, 51, 53, 58, 60,\n",
        "    62, 65, 68, 69, 72, 76, 78, 80), -1]\n",
        "\n",
        "rownames(lion_stimuli) <- 1:nrow(lion_stimuli)"
      ],
      "metadata": {
        "id": "kvbf9ByjPkIu"
      },
      "execution_count": null,
      "outputs": []
    },
    {
      "cell_type": "code",
      "source": [
        "# solving several problems\n",
        "# (doubled sentence and broken encoding)\n",
        "\n",
        "mean_ch <- mean(lion_stimuli$avg[c(20, 39)])\n",
        "sum_ch <- sum(lion_stimuli$count[c(20, 39)])\n",
        "lion_stimuli$avg[20] <- mean_ch\n",
        "lion_stimuli$count[20] <- sum_ch\n",
        "lion_stimuli <- lion_stimuli[-39, ]\n",
        "rownames(lion_stimuli) <- 1:nrow(lion_stimuli)\n",
        "\n",
        "lion_stimuli <- lion_stimuli %>%\n",
        "  mutate(stimuli = str_replace_all(stimuli, \"\\\\.\\\\.\", \"\\\\,\\\\ \")) %>%\n",
        "    mutate(stimuli = str_replace_all(stimuli, \"\\\\.\", \"\\\\ \"))"
      ],
      "metadata": {
        "id": "xbtiBqQ0OpZS"
      },
      "execution_count": null,
      "outputs": []
    },
    {
      "cell_type": "code",
      "source": [
        "# ordering in alphabetical order (groups by four)\n",
        "# saving as CSV\n",
        "\n",
        "lion_stimuli_sorted <- lion_stimuli[order(lion_stimuli$stimuli),]\n",
        "\n",
        "write.csv(lion_stimuli_sorted,\"results_exp1_statistics.csv\", row.names = FALSE)"
      ],
      "metadata": {
        "id": "WPbLnrhrIqfN"
      },
      "execution_count": null,
      "outputs": []
    },
    {
      "cell_type": "markdown",
      "source": [
        "### **Data analysis and preliminary findings**:"
      ],
      "metadata": {
        "id": "CRKIVsb9y3RD"
      }
    },
    {
      "cell_type": "markdown",
      "source": [
        "We took 4 as minimum average score of the sentence to be considered as acceptable (according to the human reasoning)."
      ],
      "metadata": {
        "id": "1KBwgALIy6bo"
      }
    },
    {
      "cell_type": "code",
      "source": [
        "lion_stimuli_sorted[lion_stimuli_sorted$avg > 4, ]"
      ],
      "metadata": {
        "colab": {
          "base_uri": "https://localhost:8080/",
          "height": 599
        },
        "id": "RlyyV4QkT7Y1",
        "outputId": "9c3c3503-4821-447e-d2ad-812dc7a276f5"
      },
      "execution_count": null,
      "outputs": [
        {
          "output_type": "display_data",
          "data": {
            "text/html": [
              "<table class=\"dataframe\">\n",
              "<caption>A data.frame: 16 × 6</caption>\n",
              "<thead>\n",
              "\t<tr><th></th><th scope=col>stimuli</th><th scope=col>avg</th><th scope=col>min</th><th scope=col>max</th><th scope=col>st_dev</th><th scope=col>count</th></tr>\n",
              "\t<tr><th></th><th scope=col>&lt;chr&gt;</th><th scope=col>&lt;dbl&gt;</th><th scope=col>&lt;dbl&gt;</th><th scope=col>&lt;dbl&gt;</th><th scope=col>&lt;dbl&gt;</th><th scope=col>&lt;dbl&gt;</th></tr>\n",
              "</thead>\n",
              "<tbody>\n",
              "\t<tr><th scope=row>19</th><td>Вода в ванне немного горячая                </td><td>4.303030</td><td>2</td><td>5</td><td>0.8472326</td><td>33</td></tr>\n",
              "\t<tr><th scope=row>5</th><td>Вода в ванне немного холодная               </td><td>4.352941</td><td>1</td><td>5</td><td>1.2030858</td><td>34</td></tr>\n",
              "\t<tr><th scope=row>33</th><td>Вода в ванне совершенно холодная            </td><td>4.423077</td><td>2</td><td>5</td><td>0.8566482</td><td>26</td></tr>\n",
              "\t<tr><th scope=row>45</th><td>Все студенты в пятой группе немного ленивые </td><td>4.647059</td><td>2</td><td>5</td><td>0.7337059</td><td>34</td></tr>\n",
              "\t<tr><th scope=row>14</th><td>Интернет в общежитии немного медленный      </td><td>4.363636</td><td>1</td><td>5</td><td>1.2946569</td><td>33</td></tr>\n",
              "\t<tr><th scope=row>44</th><td>Комната Вадика немного тёмная               </td><td>4.470588</td><td>2</td><td>5</td><td>0.8611231</td><td>34</td></tr>\n",
              "\t<tr><th scope=row>3</th><td>Комната Вадика совершенно тёмная            </td><td>4.264706</td><td>1</td><td>5</td><td>0.9941899</td><td>34</td></tr>\n",
              "\t<tr><th scope=row>41</th><td>Лицо на той картине немного уродливое       </td><td>4.235294</td><td>1</td><td>5</td><td>1.1821609</td><td>34</td></tr>\n",
              "\t<tr><th scope=row>24</th><td>Лицо на той картине совершенно уродливое    </td><td>4.333333</td><td>2</td><td>5</td><td>0.9895285</td><td>33</td></tr>\n",
              "\t<tr><th scope=row>36</th><td>Моя соседка по парте немного глупая         </td><td>4.884615</td><td>3</td><td>5</td><td>0.4314555</td><td>26</td></tr>\n",
              "\t<tr><th scope=row>38</th><td>Моя соседка по парте совершенно глупая      </td><td>4.264706</td><td>1</td><td>5</td><td>1.0242166</td><td>34</td></tr>\n",
              "\t<tr><th scope=row>15</th><td>Наш лев немного трусливый                   </td><td>4.454545</td><td>2</td><td>5</td><td>1.0028369</td><td>33</td></tr>\n",
              "\t<tr><th scope=row>8</th><td>Новый учитель информатики немного злой      </td><td>4.558824</td><td>3</td><td>5</td><td>0.7463518</td><td>34</td></tr>\n",
              "\t<tr><th scope=row>2</th><td>Эта скатерть немного грязная                </td><td>4.676471</td><td>1</td><td>5</td><td>0.8060599</td><td>34</td></tr>\n",
              "\t<tr><th scope=row>28</th><td>Эта скатерть совершенно грязная             </td><td>4.192308</td><td>1</td><td>5</td><td>1.1668498</td><td>26</td></tr>\n",
              "\t<tr><th scope=row>46</th><td>Эта скатерть совершенно чистая              </td><td>4.411765</td><td>1</td><td>5</td><td>1.1313078</td><td>34</td></tr>\n",
              "</tbody>\n",
              "</table>\n"
            ],
            "text/markdown": "\nA data.frame: 16 × 6\n\n| <!--/--> | stimuli &lt;chr&gt; | avg &lt;dbl&gt; | min &lt;dbl&gt; | max &lt;dbl&gt; | st_dev &lt;dbl&gt; | count &lt;dbl&gt; |\n|---|---|---|---|---|---|---|\n| 19 | Вода в ванне немного горячая                 | 4.303030 | 2 | 5 | 0.8472326 | 33 |\n| 5 | Вода в ванне немного холодная                | 4.352941 | 1 | 5 | 1.2030858 | 34 |\n| 33 | Вода в ванне совершенно холодная             | 4.423077 | 2 | 5 | 0.8566482 | 26 |\n| 45 | Все студенты в пятой группе немного ленивые  | 4.647059 | 2 | 5 | 0.7337059 | 34 |\n| 14 | Интернет в общежитии немного медленный       | 4.363636 | 1 | 5 | 1.2946569 | 33 |\n| 44 | Комната Вадика немного тёмная                | 4.470588 | 2 | 5 | 0.8611231 | 34 |\n| 3 | Комната Вадика совершенно тёмная             | 4.264706 | 1 | 5 | 0.9941899 | 34 |\n| 41 | Лицо на той картине немного уродливое        | 4.235294 | 1 | 5 | 1.1821609 | 34 |\n| 24 | Лицо на той картине совершенно уродливое     | 4.333333 | 2 | 5 | 0.9895285 | 33 |\n| 36 | Моя соседка по парте немного глупая          | 4.884615 | 3 | 5 | 0.4314555 | 26 |\n| 38 | Моя соседка по парте совершенно глупая       | 4.264706 | 1 | 5 | 1.0242166 | 34 |\n| 15 | Наш лев немного трусливый                    | 4.454545 | 2 | 5 | 1.0028369 | 33 |\n| 8 | Новый учитель информатики немного злой       | 4.558824 | 3 | 5 | 0.7463518 | 34 |\n| 2 | Эта скатерть немного грязная                 | 4.676471 | 1 | 5 | 0.8060599 | 34 |\n| 28 | Эта скатерть совершенно грязная              | 4.192308 | 1 | 5 | 1.1668498 | 26 |\n| 46 | Эта скатерть совершенно чистая               | 4.411765 | 1 | 5 | 1.1313078 | 34 |\n\n",
            "text/latex": "A data.frame: 16 × 6\n\\begin{tabular}{r|llllll}\n  & stimuli & avg & min & max & st\\_dev & count\\\\\n  & <chr> & <dbl> & <dbl> & <dbl> & <dbl> & <dbl>\\\\\n\\hline\n\t19 & Вода в ванне немного горячая                 & 4.303030 & 2 & 5 & 0.8472326 & 33\\\\\n\t5 & Вода в ванне немного холодная                & 4.352941 & 1 & 5 & 1.2030858 & 34\\\\\n\t33 & Вода в ванне совершенно холодная             & 4.423077 & 2 & 5 & 0.8566482 & 26\\\\\n\t45 & Все студенты в пятой группе немного ленивые  & 4.647059 & 2 & 5 & 0.7337059 & 34\\\\\n\t14 & Интернет в общежитии немного медленный       & 4.363636 & 1 & 5 & 1.2946569 & 33\\\\\n\t44 & Комната Вадика немного тёмная                & 4.470588 & 2 & 5 & 0.8611231 & 34\\\\\n\t3 & Комната Вадика совершенно тёмная             & 4.264706 & 1 & 5 & 0.9941899 & 34\\\\\n\t41 & Лицо на той картине немного уродливое        & 4.235294 & 1 & 5 & 1.1821609 & 34\\\\\n\t24 & Лицо на той картине совершенно уродливое     & 4.333333 & 2 & 5 & 0.9895285 & 33\\\\\n\t36 & Моя соседка по парте немного глупая          & 4.884615 & 3 & 5 & 0.4314555 & 26\\\\\n\t38 & Моя соседка по парте совершенно глупая       & 4.264706 & 1 & 5 & 1.0242166 & 34\\\\\n\t15 & Наш лев немного трусливый                    & 4.454545 & 2 & 5 & 1.0028369 & 33\\\\\n\t8 & Новый учитель информатики немного злой       & 4.558824 & 3 & 5 & 0.7463518 & 34\\\\\n\t2 & Эта скатерть немного грязная                 & 4.676471 & 1 & 5 & 0.8060599 & 34\\\\\n\t28 & Эта скатерть совершенно грязная              & 4.192308 & 1 & 5 & 1.1668498 & 26\\\\\n\t46 & Эта скатерть совершенно чистая               & 4.411765 & 1 & 5 & 1.1313078 & 34\\\\\n\\end{tabular}\n",
            "text/plain": [
              "   stimuli                                      avg      min max st_dev   \n",
              "19 Вода в ванне немного горячая                 4.303030 2   5   0.8472326\n",
              "5  Вода в ванне немного холодная                4.352941 1   5   1.2030858\n",
              "33 Вода в ванне совершенно холодная             4.423077 2   5   0.8566482\n",
              "45 Все студенты в пятой группе немного ленивые  4.647059 2   5   0.7337059\n",
              "14 Интернет в общежитии немного медленный       4.363636 1   5   1.2946569\n",
              "44 Комната Вадика немного тёмная                4.470588 2   5   0.8611231\n",
              "3  Комната Вадика совершенно тёмная             4.264706 1   5   0.9941899\n",
              "41 Лицо на той картине немного уродливое        4.235294 1   5   1.1821609\n",
              "24 Лицо на той картине совершенно уродливое     4.333333 2   5   0.9895285\n",
              "36 Моя соседка по парте немного глупая          4.884615 3   5   0.4314555\n",
              "38 Моя соседка по парте совершенно глупая       4.264706 1   5   1.0242166\n",
              "15 Наш лев немного трусливый                    4.454545 2   5   1.0028369\n",
              "8  Новый учитель информатики немного злой       4.558824 3   5   0.7463518\n",
              "2  Эта скатерть немного грязная                 4.676471 1   5   0.8060599\n",
              "28 Эта скатерть совершенно грязная              4.192308 1   5   1.1668498\n",
              "46 Эта скатерть совершенно чистая               4.411765 1   5   1.1313078\n",
              "   count\n",
              "19 33   \n",
              "5  34   \n",
              "33 26   \n",
              "45 34   \n",
              "14 33   \n",
              "44 34   \n",
              "3  34   \n",
              "41 34   \n",
              "24 33   \n",
              "36 26   \n",
              "38 34   \n",
              "15 33   \n",
              "8  34   \n",
              "2  34   \n",
              "28 26   \n",
              "46 34   "
            ]
          },
          "metadata": {}
        }
      ]
    },
    {
      "cell_type": "markdown",
      "source": [
        "**Our findings**:\n",
        "\n",
        "Adjectives in bold font represent **prevalence** in acceptability of modification with degree modifiers or the only possible variant of modification.\n",
        "\n",
        "Three acceptable collocations:\n",
        "- **грязный** – чистый (dirty – clean, *чистый* with *совершенно* (completely));\n",
        "- **холодный** – горячий (cold – hot, *горячий* with *немного* (slightly)).\n",
        "\n",
        "Two acceptable collocations:\n",
        "- светлый – **тёмный** (light – dark);\n",
        "- умный – **глупый** (smart – stupid);\n",
        "- красивый – **уродливый** (beautiful – ugly).\n",
        "\n",
        "One acceptable collocations (all with *немного* (slightly)):\n",
        "- быстрый – **медленный** (fast – slow);\n",
        "- **злой** – добрый (good – bad)$^1$;\n",
        "- **ленивый** – трудолюбивый (lazy – hard-working);\n",
        "- храбрый – **трусливый** (brave – fearful).\n",
        "\n",
        "Zero acceptable collocations:\n",
        "- щедрый – скупой (generous – stingy);\n",
        "- высокий – низкий (tall – short);\n",
        "- тяжёлый – лёгкий (heavy – light).\n",
        "\n",
        "\n",
        "$^1$ It should be mentioned that we accidentally skiped one variant *совершенно добрый* (completely kind)."
      ],
      "metadata": {
        "id": "d0laQs_ZYzRF"
      }
    },
    {
      "cell_type": "markdown",
      "source": [
        "## **Experiment 2**"
      ],
      "metadata": {
        "id": "mQxXTv5tPOxi"
      }
    },
    {
      "cell_type": "markdown",
      "source": [
        "### **Import of the collected data**:"
      ],
      "metadata": {
        "id": "ZwfLmVXXP25u"
      }
    },
    {
      "cell_type": "code",
      "execution_count": 10,
      "metadata": {
        "id": "gBn99hVJP25v"
      },
      "outputs": [],
      "source": [
        "# opening JSON and making a tibble out of it\n",
        "\n",
        "raw_second_exp <- fromJSON(\n",
        "    'https://raw.githubusercontent.com/KatiaKozlova/stat-project/refs/heads/main/results/exp2/results_exp2.json',\n",
        "    flatten=TRUE\n",
        "    ) %>% as_tibble()"
      ]
    },
    {
      "cell_type": "code",
      "source": [
        "# reframing and transposing into a dataframe\n",
        "\n",
        "flatten_second_exp <- raw_second_exp %>%\n",
        "  mutate(across(where(is.list), as.character))\n",
        "\n",
        "second_exp <- flatten_second_exp[-1] %>%\n",
        "  t() %>%\n",
        "    as.data.frame() %>%\n",
        "      setNames(\n",
        "        c('id_person', 'id_item',\n",
        "        'id_list', 'adjective',\n",
        "        'type', 'judgement',\n",
        "        'print_time', 'judge_time')\n",
        "        )"
      ],
      "metadata": {
        "id": "23s3skwiQC02"
      },
      "execution_count": 11,
      "outputs": []
    },
    {
      "cell_type": "code",
      "source": [
        "# creating a column with timing of each answer\n",
        "\n",
        "second_exp$clean_time <- (as.numeric(second_exp$judge_time) - as.numeric(second_exp$print_time)) / 1000"
      ],
      "metadata": {
        "id": "y632GgARUdXP"
      },
      "execution_count": 12,
      "outputs": []
    },
    {
      "cell_type": "markdown",
      "source": [
        "### **Data pre-processing**:"
      ],
      "metadata": {
        "id": "P5HspTa5vugS"
      }
    },
    {
      "cell_type": "markdown",
      "source": [
        "Among other means, we were also using *Yandex.Toloka*, which allow its users to get paid for completing easy tasks, such as filling in some questioners. However, one of its' problems include an \"unfair game\" where subjects may choose answers randomly. Thus, we want to manually detect such users that their timing repeatedly was less than a second per answer and delete them as outliers."
      ],
      "metadata": {
        "id": "wFWrnHGxv564"
      }
    },
    {
      "cell_type": "code",
      "source": [
        "# detecting automatic answers\n",
        "\n",
        "automatic_answers <- second_exp[second_exp$clean_time < 1,] %>%\n",
        "  group_by(id_person) %>%\n",
        "    summarise(n = n())\n",
        "\n",
        "automatic_answers <- automatic_answers[automatic_answers$n > 1,]"
      ],
      "metadata": {
        "id": "pxpRfz30sYBz"
      },
      "execution_count": 47,
      "outputs": []
    },
    {
      "cell_type": "code",
      "source": [
        "# deleting these 9 unfair players\n",
        "\n",
        "second_exp <- second_exp[!(second_exp$id_person %in% automatic_answers$id_person),]"
      ],
      "metadata": {
        "id": "bJx_CwMTtTej"
      },
      "execution_count": 49,
      "outputs": []
    },
    {
      "cell_type": "code",
      "source": [
        "# creating a df with control questions\n",
        "# outlining the summary\n",
        "\n",
        "control_questions <- second_exp[second_exp$type == 'control',]\n",
        "summary(control_questions$clean_time)"
      ],
      "metadata": {
        "colab": {
          "base_uri": "https://localhost:8080/",
          "height": 52
        },
        "id": "lg6BiuzdVUgQ",
        "outputId": "eb33e3ea-510d-4909-a858-aebfdaabb402"
      },
      "execution_count": 52,
      "outputs": [
        {
          "output_type": "display_data",
          "data": {
            "text/plain": [
              "   Min. 1st Qu.  Median    Mean 3rd Qu.    Max. \n",
              "  2.239   5.032   6.780   8.353   9.434  58.865 "
            ]
          },
          "metadata": {}
        }
      ]
    },
    {
      "cell_type": "code",
      "source": [
        "boxplot(control_questions$clean_time,\n",
        "  ylab = \"time, s\",\n",
        "  main = 'Box plot with control questions'\n",
        ")"
      ],
      "metadata": {
        "colab": {
          "base_uri": "https://localhost:8080/",
          "height": 437
        },
        "id": "Lwh_sc1tWun_",
        "outputId": "8eff39e5-7004-48f1-8c3e-2e66bbc6890c"
      },
      "execution_count": 53,
      "outputs": [
        {
          "output_type": "display_data",
          "data": {
            "text/plain": [
              "Plot with title “Box plot with control questions”"
            ],
            "image/png": "[encoded data removed]"
          },
          "metadata": {
            "image/png": {
              "width": 420,
              "height": 420
            }
          }
        }
      ]
    },
    {
      "cell_type": "code",
      "source": [
        "identify_outliers(\n",
        "  data = control_questions,\n",
        "  variable = 'clean_time'\n",
        ")"
      ],
      "metadata": {
        "colab": {
          "base_uri": "https://localhost:8080/",
          "height": 725
        },
        "id": "hr7027meX9Jk",
        "outputId": "dec069bc-631f-4146-d3d5-72e5444ccdd6"
      },
      "execution_count": 57,
      "outputs": [
        {
          "output_type": "display_data",
          "data": {
            "text/html": [
              "<table class=\"dataframe\">\n",
              "<caption>A data.frame: 20 × 11</caption>\n",
              "<thead>\n",
              "\t<tr><th></th><th scope=col>id_person</th><th scope=col>id_item</th><th scope=col>id_list</th><th scope=col>adjective</th><th scope=col>type</th><th scope=col>judgement</th><th scope=col>print_time</th><th scope=col>judge_time</th><th scope=col>clean_time</th><th scope=col>is.outlier</th><th scope=col>is.extreme</th></tr>\n",
              "\t<tr><th></th><th scope=col>&lt;chr&gt;</th><th scope=col>&lt;chr&gt;</th><th scope=col>&lt;chr&gt;</th><th scope=col>&lt;chr&gt;</th><th scope=col>&lt;chr&gt;</th><th scope=col>&lt;chr&gt;</th><th scope=col>&lt;chr&gt;</th><th scope=col>&lt;chr&gt;</th><th scope=col>&lt;dbl&gt;</th><th scope=col>&lt;lgl&gt;</th><th scope=col>&lt;lgl&gt;</th></tr>\n",
              "</thead>\n",
              "<tbody>\n",
              "\t<tr><th scope=row>B00_1741177644</th><td>1741177644</td><td>00 </td><td>B</td><td>-</td><td>control</td><td>5</td><td>1741177562196</td><td>1741177581326</td><td>19.130</td><td>TRUE</td><td>FALSE</td></tr>\n",
              "\t<tr><th scope=row>B0_1741177831</th><td>1741177831</td><td>0  </td><td>B</td><td>-</td><td>control</td><td>1</td><td>1741177719182</td><td>1741177736552</td><td>17.370</td><td>TRUE</td><td>FALSE</td></tr>\n",
              "\t<tr><th scope=row>C000_1741180580</th><td>1741180580</td><td>000</td><td>C</td><td>-</td><td>control</td><td>5</td><td>1741180232229</td><td>1741180258512</td><td>26.283</td><td>TRUE</td><td> TRUE</td></tr>\n",
              "\t<tr><th scope=row>C0_1741180580</th><td>1741180580</td><td>0  </td><td>C</td><td>-</td><td>control</td><td>1</td><td>1741180497269</td><td>1741180547844</td><td>50.575</td><td>TRUE</td><td> TRUE</td></tr>\n",
              "\t<tr><th scope=row>A00_1741182117</th><td>1741182117</td><td>00 </td><td>A</td><td>-</td><td>control</td><td>5</td><td>1741177907811</td><td>1741177926471</td><td>18.660</td><td>TRUE</td><td>FALSE</td></tr>\n",
              "\t<tr><th scope=row>B000_1741189203</th><td>1741189203</td><td>000</td><td>B</td><td>-</td><td>control</td><td>5</td><td>1741188951672</td><td>1741188973177</td><td>21.505</td><td>TRUE</td><td>FALSE</td></tr>\n",
              "\t<tr><th scope=row>B00_1741189203</th><td>1741189203</td><td>00 </td><td>B</td><td>-</td><td>control</td><td>5</td><td>1741188973721</td><td>1741189008592</td><td>34.871</td><td>TRUE</td><td> TRUE</td></tr>\n",
              "\t<tr><th scope=row>B0_1741189203</th><td>1741189203</td><td>0  </td><td>B</td><td>-</td><td>control</td><td>3</td><td>1741189023627</td><td>1741189040987</td><td>17.360</td><td>TRUE</td><td>FALSE</td></tr>\n",
              "\t<tr><th scope=row>B0_1741189407</th><td>1741189407</td><td>0  </td><td>B</td><td>-</td><td>control</td><td>1</td><td>1741189191827</td><td>1741189230359</td><td>38.532</td><td>TRUE</td><td> TRUE</td></tr>\n",
              "\t<tr><th scope=row>B00_1741189407</th><td>1741189407</td><td>00 </td><td>B</td><td>-</td><td>control</td><td>5</td><td>1741189230863</td><td>1741189247211</td><td>16.348</td><td>TRUE</td><td>FALSE</td></tr>\n",
              "\t<tr><th scope=row>D0_1741192342</th><td>1741192342</td><td>0  </td><td>D</td><td>-</td><td>control</td><td>1</td><td>1741192225760</td><td>1741192244564</td><td>18.804</td><td>TRUE</td><td>FALSE</td></tr>\n",
              "\t<tr><th scope=row>D000_1741211131</th><td>1741211131</td><td>000</td><td>D</td><td>-</td><td>control</td><td>5</td><td>1741210994853</td><td>1741211011550</td><td>16.697</td><td>TRUE</td><td>FALSE</td></tr>\n",
              "\t<tr><th scope=row>C000_1741466739</th><td>1741466739</td><td>000</td><td>C</td><td>-</td><td>control</td><td>5</td><td>1741466621780</td><td>1741466646844</td><td>25.064</td><td>TRUE</td><td> TRUE</td></tr>\n",
              "\t<tr><th scope=row>A00_1741631135</th><td>1741631135</td><td>00 </td><td>A</td><td>-</td><td>control</td><td>5</td><td>1741631061694</td><td>1741631081745</td><td>20.051</td><td>TRUE</td><td>FALSE</td></tr>\n",
              "\t<tr><th scope=row>B0_1741631561</th><td>1741631561</td><td>0  </td><td>B</td><td>-</td><td>control</td><td>1</td><td>1741631109416</td><td>1741631150439</td><td>41.023</td><td>TRUE</td><td> TRUE</td></tr>\n",
              "\t<tr><th scope=row>A0_1741637914</th><td>1741637914</td><td>0  </td><td>A</td><td>-</td><td>control</td><td>1</td><td>1741637724058</td><td>1741637782923</td><td>58.865</td><td>TRUE</td><td> TRUE</td></tr>\n",
              "\t<tr><th scope=row>D00_1741696289</th><td>1741696289</td><td>00 </td><td>D</td><td>-</td><td>control</td><td>5</td><td>1741696145501</td><td>1741696162043</td><td>16.542</td><td>TRUE</td><td>FALSE</td></tr>\n",
              "\t<tr><th scope=row>D000_1741696289</th><td>1741696289</td><td>000</td><td>D</td><td>-</td><td>control</td><td>1</td><td>1741696238666</td><td>1741696255458</td><td>16.792</td><td>TRUE</td><td>FALSE</td></tr>\n",
              "\t<tr><th scope=row>C00_1741701652</th><td>1741701652</td><td>00 </td><td>C</td><td>-</td><td>control</td><td>5</td><td>1741701454824</td><td>1741701473102</td><td>18.278</td><td>TRUE</td><td>FALSE</td></tr>\n",
              "\t<tr><th scope=row>C0_1741701652</th><td>1741701652</td><td>0  </td><td>C</td><td>-</td><td>control</td><td>1</td><td>1741701473629</td><td>1741701502237</td><td>28.608</td><td>TRUE</td><td> TRUE</td></tr>\n",
              "</tbody>\n",
              "</table>\n"
            ],
            "text/markdown": "\nA data.frame: 20 × 11\n\n| <!--/--> | id_person &lt;chr&gt; | id_item &lt;chr&gt; | id_list &lt;chr&gt; | adjective &lt;chr&gt; | type &lt;chr&gt; | judgement &lt;chr&gt; | print_time &lt;chr&gt; | judge_time &lt;chr&gt; | clean_time &lt;dbl&gt; | is.outlier &lt;lgl&gt; | is.extreme &lt;lgl&gt; |\n|---|---|---|---|---|---|---|---|---|---|---|---|\n| B00_1741177644 | 1741177644 | 00  | B | - | control | 5 | 1741177562196 | 1741177581326 | 19.130 | TRUE | FALSE |\n| B0_1741177831 | 1741177831 | 0   | B | - | control | 1 | 1741177719182 | 1741177736552 | 17.370 | TRUE | FALSE |\n| C000_1741180580 | 1741180580 | 000 | C | - | control | 5 | 1741180232229 | 1741180258512 | 26.283 | TRUE |  TRUE |\n| C0_1741180580 | 1741180580 | 0   | C | - | control | 1 | 1741180497269 | 1741180547844 | 50.575 | TRUE |  TRUE |\n| A00_1741182117 | 1741182117 | 00  | A | - | control | 5 | 1741177907811 | 1741177926471 | 18.660 | TRUE | FALSE |\n| B000_1741189203 | 1741189203 | 000 | B | - | control | 5 | 1741188951672 | 1741188973177 | 21.505 | TRUE | FALSE |\n| B00_1741189203 | 1741189203 | 00  | B | - | control | 5 | 1741188973721 | 1741189008592 | 34.871 | TRUE |  TRUE |\n| B0_1741189203 | 1741189203 | 0   | B | - | control | 3 | 1741189023627 | 1741189040987 | 17.360 | TRUE | FALSE |\n| B0_1741189407 | 1741189407 | 0   | B | - | control | 1 | 1741189191827 | 1741189230359 | 38.532 | TRUE |  TRUE |\n| B00_1741189407 | 1741189407 | 00  | B | - | control | 5 | 1741189230863 | 1741189247211 | 16.348 | TRUE | FALSE |\n| D0_1741192342 | 1741192342 | 0   | D | - | control | 1 | 1741192225760 | 1741192244564 | 18.804 | TRUE | FALSE |\n| D000_1741211131 | 1741211131 | 000 | D | - | control | 5 | 1741210994853 | 1741211011550 | 16.697 | TRUE | FALSE |\n| C000_1741466739 | 1741466739 | 000 | C | - | control | 5 | 1741466621780 | 1741466646844 | 25.064 | TRUE |  TRUE |\n| A00_1741631135 | 1741631135 | 00  | A | - | control | 5 | 1741631061694 | 1741631081745 | 20.051 | TRUE | FALSE |\n| B0_1741631561 | 1741631561 | 0   | B | - | control | 1 | 1741631109416 | 1741631150439 | 41.023 | TRUE |  TRUE |\n| A0_1741637914 | 1741637914 | 0   | A | - | control | 1 | 1741637724058 | 1741637782923 | 58.865 | TRUE |  TRUE |\n| D00_1741696289 | 1741696289 | 00  | D | - | control | 5 | 1741696145501 | 1741696162043 | 16.542 | TRUE | FALSE |\n| D000_1741696289 | 1741696289 | 000 | D | - | control | 1 | 1741696238666 | 1741696255458 | 16.792 | TRUE | FALSE |\n| C00_1741701652 | 1741701652 | 00  | C | - | control | 5 | 1741701454824 | 1741701473102 | 18.278 | TRUE | FALSE |\n| C0_1741701652 | 1741701652 | 0   | C | - | control | 1 | 1741701473629 | 1741701502237 | 28.608 | TRUE |  TRUE |\n\n",
            "text/latex": "A data.frame: 20 × 11\n\\begin{tabular}{r|lllllllllll}\n  & id\\_person & id\\_item & id\\_list & adjective & type & judgement & print\\_time & judge\\_time & clean\\_time & is.outlier & is.extreme\\\\\n  & <chr> & <chr> & <chr> & <chr> & <chr> & <chr> & <chr> & <chr> & <dbl> & <lgl> & <lgl>\\\\\n\\hline\n\tB00\\_1741177644 & 1741177644 & 00  & B & - & control & 5 & 1741177562196 & 1741177581326 & 19.130 & TRUE & FALSE\\\\\n\tB0\\_1741177831 & 1741177831 & 0   & B & - & control & 1 & 1741177719182 & 1741177736552 & 17.370 & TRUE & FALSE\\\\\n\tC000\\_1741180580 & 1741180580 & 000 & C & - & control & 5 & 1741180232229 & 1741180258512 & 26.283 & TRUE &  TRUE\\\\\n\tC0\\_1741180580 & 1741180580 & 0   & C & - & control & 1 & 1741180497269 & 1741180547844 & 50.575 & TRUE &  TRUE\\\\\n\tA00\\_1741182117 & 1741182117 & 00  & A & - & control & 5 & 1741177907811 & 1741177926471 & 18.660 & TRUE & FALSE\\\\\n\tB000\\_1741189203 & 1741189203 & 000 & B & - & control & 5 & 1741188951672 & 1741188973177 & 21.505 & TRUE & FALSE\\\\\n\tB00\\_1741189203 & 1741189203 & 00  & B & - & control & 5 & 1741188973721 & 1741189008592 & 34.871 & TRUE &  TRUE\\\\\n\tB0\\_1741189203 & 1741189203 & 0   & B & - & control & 3 & 1741189023627 & 1741189040987 & 17.360 & TRUE & FALSE\\\\\n\tB0\\_1741189407 & 1741189407 & 0   & B & - & control & 1 & 1741189191827 & 1741189230359 & 38.532 & TRUE &  TRUE\\\\\n\tB00\\_1741189407 & 1741189407 & 00  & B & - & control & 5 & 1741189230863 & 1741189247211 & 16.348 & TRUE & FALSE\\\\\n\tD0\\_1741192342 & 1741192342 & 0   & D & - & control & 1 & 1741192225760 & 1741192244564 & 18.804 & TRUE & FALSE\\\\\n\tD000\\_1741211131 & 1741211131 & 000 & D & - & control & 5 & 1741210994853 & 1741211011550 & 16.697 & TRUE & FALSE\\\\\n\tC000\\_1741466739 & 1741466739 & 000 & C & - & control & 5 & 1741466621780 & 1741466646844 & 25.064 & TRUE &  TRUE\\\\\n\tA00\\_1741631135 & 1741631135 & 00  & A & - & control & 5 & 1741631061694 & 1741631081745 & 20.051 & TRUE & FALSE\\\\\n\tB0\\_1741631561 & 1741631561 & 0   & B & - & control & 1 & 1741631109416 & 1741631150439 & 41.023 & TRUE &  TRUE\\\\\n\tA0\\_1741637914 & 1741637914 & 0   & A & - & control & 1 & 1741637724058 & 1741637782923 & 58.865 & TRUE &  TRUE\\\\\n\tD00\\_1741696289 & 1741696289 & 00  & D & - & control & 5 & 1741696145501 & 1741696162043 & 16.542 & TRUE & FALSE\\\\\n\tD000\\_1741696289 & 1741696289 & 000 & D & - & control & 1 & 1741696238666 & 1741696255458 & 16.792 & TRUE & FALSE\\\\\n\tC00\\_1741701652 & 1741701652 & 00  & C & - & control & 5 & 1741701454824 & 1741701473102 & 18.278 & TRUE & FALSE\\\\\n\tC0\\_1741701652 & 1741701652 & 0   & C & - & control & 1 & 1741701473629 & 1741701502237 & 28.608 & TRUE &  TRUE\\\\\n\\end{tabular}\n",
            "text/plain": [
              "                id_person  id_item id_list adjective type    judgement\n",
              "B00_1741177644  1741177644 00      B       -         control 5        \n",
              "B0_1741177831   1741177831 0       B       -         control 1        \n",
              "C000_1741180580 1741180580 000     C       -         control 5        \n",
              "C0_1741180580   1741180580 0       C       -         control 1        \n",
              "A00_1741182117  1741182117 00      A       -         control 5        \n",
              "B000_1741189203 1741189203 000     B       -         control 5        \n",
              "B00_1741189203  1741189203 00      B       -         control 5        \n",
              "B0_1741189203   1741189203 0       B       -         control 3        \n",
              "B0_1741189407   1741189407 0       B       -         control 1        \n",
              "B00_1741189407  1741189407 00      B       -         control 5        \n",
              "D0_1741192342   1741192342 0       D       -         control 1        \n",
              "D000_1741211131 1741211131 000     D       -         control 5        \n",
              "C000_1741466739 1741466739 000     C       -         control 5        \n",
              "A00_1741631135  1741631135 00      A       -         control 5        \n",
              "B0_1741631561   1741631561 0       B       -         control 1        \n",
              "A0_1741637914   1741637914 0       A       -         control 1        \n",
              "D00_1741696289  1741696289 00      D       -         control 5        \n",
              "D000_1741696289 1741696289 000     D       -         control 1        \n",
              "C00_1741701652  1741701652 00      C       -         control 5        \n",
              "C0_1741701652   1741701652 0       C       -         control 1        \n",
              "                print_time    judge_time    clean_time is.outlier is.extreme\n",
              "B00_1741177644  1741177562196 1741177581326 19.130     TRUE       FALSE     \n",
              "B0_1741177831   1741177719182 1741177736552 17.370     TRUE       FALSE     \n",
              "C000_1741180580 1741180232229 1741180258512 26.283     TRUE        TRUE     \n",
              "C0_1741180580   1741180497269 1741180547844 50.575     TRUE        TRUE     \n",
              "A00_1741182117  1741177907811 1741177926471 18.660     TRUE       FALSE     \n",
              "B000_1741189203 1741188951672 1741188973177 21.505     TRUE       FALSE     \n",
              "B00_1741189203  1741188973721 1741189008592 34.871     TRUE        TRUE     \n",
              "B0_1741189203   1741189023627 1741189040987 17.360     TRUE       FALSE     \n",
              "B0_1741189407   1741189191827 1741189230359 38.532     TRUE        TRUE     \n",
              "B00_1741189407  1741189230863 1741189247211 16.348     TRUE       FALSE     \n",
              "D0_1741192342   1741192225760 1741192244564 18.804     TRUE       FALSE     \n",
              "D000_1741211131 1741210994853 1741211011550 16.697     TRUE       FALSE     \n",
              "C000_1741466739 1741466621780 1741466646844 25.064     TRUE        TRUE     \n",
              "A00_1741631135  1741631061694 1741631081745 20.051     TRUE       FALSE     \n",
              "B0_1741631561   1741631109416 1741631150439 41.023     TRUE        TRUE     \n",
              "A0_1741637914   1741637724058 1741637782923 58.865     TRUE        TRUE     \n",
              "D00_1741696289  1741696145501 1741696162043 16.542     TRUE       FALSE     \n",
              "D000_1741696289 1741696238666 1741696255458 16.792     TRUE       FALSE     \n",
              "C00_1741701652  1741701454824 1741701473102 18.278     TRUE       FALSE     \n",
              "C0_1741701652   1741701473629 1741701502237 28.608     TRUE        TRUE     "
            ]
          },
          "metadata": {}
        }
      ]
    },
    {
      "cell_type": "code",
      "source": [
        "second_exp[second_exp$id_person == '1741180580',]"
      ],
      "metadata": {
        "colab": {
          "base_uri": "https://localhost:8080/",
          "height": 599
        },
        "id": "Tn676RmPYH-Q",
        "outputId": "7bf50849-4a2f-4445-e36d-6f3ab2701d7c"
      },
      "execution_count": 19,
      "outputs": [
        {
          "output_type": "display_data",
          "data": {
            "text/html": [
              "<table class=\"dataframe\">\n",
              "<caption>A data.frame: 16 × 9</caption>\n",
              "<thead>\n",
              "\t<tr><th></th><th scope=col>id_person</th><th scope=col>id_item</th><th scope=col>id_list</th><th scope=col>adjective</th><th scope=col>type</th><th scope=col>judgement</th><th scope=col>print_time</th><th scope=col>judge_time</th><th scope=col>clean_time</th></tr>\n",
              "\t<tr><th></th><th scope=col>&lt;chr&gt;</th><th scope=col>&lt;chr&gt;</th><th scope=col>&lt;chr&gt;</th><th scope=col>&lt;chr&gt;</th><th scope=col>&lt;chr&gt;</th><th scope=col>&lt;chr&gt;</th><th scope=col>&lt;chr&gt;</th><th scope=col>&lt;chr&gt;</th><th scope=col>&lt;dbl&gt;</th></tr>\n",
              "</thead>\n",
              "<tbody>\n",
              "\t<tr><th scope=row>C00_1741180580</th><td>1741180580</td><td>00 </td><td>C</td><td>-        </td><td>control</td><td>5</td><td>1741180203027</td><td>1741180214713</td><td>11.686</td></tr>\n",
              "\t<tr><th scope=row>C14_1741180580</th><td>1741180580</td><td>14 </td><td>C</td><td>быстрая  </td><td>false  </td><td>3</td><td>1741180215229</td><td>1741180231716</td><td>16.487</td></tr>\n",
              "\t<tr><th scope=row>C000_1741180580</th><td>1741180580</td><td>000</td><td>C</td><td>-        </td><td>control</td><td>5</td><td>1741180232229</td><td>1741180258512</td><td>26.283</td></tr>\n",
              "\t<tr><th scope=row>C3_1741180580</th><td>1741180580</td><td>3  </td><td>C</td><td>-        </td><td>true   </td><td>3</td><td>1741180259024</td><td>1741180273214</td><td>14.190</td></tr>\n",
              "\t<tr><th scope=row>C6_1741180580</th><td>1741180580</td><td>6  </td><td>C</td><td>-        </td><td>true   </td><td>3</td><td>1741180273727</td><td>1741180286072</td><td>12.345</td></tr>\n",
              "\t<tr><th scope=row>C16_1741180580</th><td>1741180580</td><td>16 </td><td>C</td><td>умная    </td><td>false  </td><td>3</td><td>1741180286585</td><td>1741180296330</td><td> 9.745</td></tr>\n",
              "\t<tr><th scope=row>C2_1741180580</th><td>1741180580</td><td>2  </td><td>C</td><td>-        </td><td>true   </td><td>4</td><td>1741180296844</td><td>1741180332347</td><td>35.503</td></tr>\n",
              "\t<tr><th scope=row>C19_1741180580</th><td>1741180580</td><td>19 </td><td>C</td><td>низкая   </td><td>false  </td><td>3</td><td>1741180332868</td><td>1741180410446</td><td>77.578</td></tr>\n",
              "\t<tr><th scope=row>C15_1741180580</th><td>1741180580</td><td>15 </td><td>C</td><td>добрая   </td><td>false  </td><td>3</td><td>1741180410964</td><td>1741180420228</td><td> 9.264</td></tr>\n",
              "\t<tr><th scope=row>C17_1741180580</th><td>1741180580</td><td>17 </td><td>C</td><td>трусливая</td><td>false  </td><td>3</td><td>1741180420742</td><td>1741180445346</td><td>24.604</td></tr>\n",
              "\t<tr><th scope=row>C1_1741180580</th><td>1741180580</td><td>1  </td><td>C</td><td>pos      </td><td>true   </td><td>5</td><td>1741180445856</td><td>1741180453291</td><td> 7.435</td></tr>\n",
              "\t<tr><th scope=row>C5_1741180580</th><td>1741180580</td><td>5  </td><td>C</td><td>ind      </td><td>true   </td><td>2</td><td>1741180453803</td><td>1741180469614</td><td>15.811</td></tr>\n",
              "\t<tr><th scope=row>C7_1741180580</th><td>1741180580</td><td>7  </td><td>C</td><td>-        </td><td>true   </td><td>3</td><td>1741180470129</td><td>1741180496756</td><td>26.627</td></tr>\n",
              "\t<tr><th scope=row>C0_1741180580</th><td>1741180580</td><td>0  </td><td>C</td><td>-        </td><td>control</td><td>1</td><td>1741180497269</td><td>1741180547844</td><td>50.575</td></tr>\n",
              "\t<tr><th scope=row>C18_1741180580</th><td>1741180580</td><td>18 </td><td>C</td><td>лёгкая   </td><td>false  </td><td>3</td><td>1741180548354</td><td>1741180559800</td><td>11.446</td></tr>\n",
              "\t<tr><th scope=row>C4_1741180580</th><td>1741180580</td><td>4  </td><td>C</td><td>cf       </td><td>true   </td><td>3</td><td>1741180560313</td><td>1741180580032</td><td>19.719</td></tr>\n",
              "</tbody>\n",
              "</table>\n"
            ],
            "text/markdown": "\nA data.frame: 16 × 9\n\n| <!--/--> | id_person &lt;chr&gt; | id_item &lt;chr&gt; | id_list &lt;chr&gt; | adjective &lt;chr&gt; | type &lt;chr&gt; | judgement &lt;chr&gt; | print_time &lt;chr&gt; | judge_time &lt;chr&gt; | clean_time &lt;dbl&gt; |\n|---|---|---|---|---|---|---|---|---|---|\n| C00_1741180580 | 1741180580 | 00  | C | -         | control | 5 | 1741180203027 | 1741180214713 | 11.686 |\n| C14_1741180580 | 1741180580 | 14  | C | быстрая   | false   | 3 | 1741180215229 | 1741180231716 | 16.487 |\n| C000_1741180580 | 1741180580 | 000 | C | -         | control | 5 | 1741180232229 | 1741180258512 | 26.283 |\n| C3_1741180580 | 1741180580 | 3   | C | -         | true    | 3 | 1741180259024 | 1741180273214 | 14.190 |\n| C6_1741180580 | 1741180580 | 6   | C | -         | true    | 3 | 1741180273727 | 1741180286072 | 12.345 |\n| C16_1741180580 | 1741180580 | 16  | C | умная     | false   | 3 | 1741180286585 | 1741180296330 |  9.745 |\n| C2_1741180580 | 1741180580 | 2   | C | -         | true    | 4 | 1741180296844 | 1741180332347 | 35.503 |\n| C19_1741180580 | 1741180580 | 19  | C | низкая    | false   | 3 | 1741180332868 | 1741180410446 | 77.578 |\n| C15_1741180580 | 1741180580 | 15  | C | добрая    | false   | 3 | 1741180410964 | 1741180420228 |  9.264 |\n| C17_1741180580 | 1741180580 | 17  | C | трусливая | false   | 3 | 1741180420742 | 1741180445346 | 24.604 |\n| C1_1741180580 | 1741180580 | 1   | C | pos       | true    | 5 | 1741180445856 | 1741180453291 |  7.435 |\n| C5_1741180580 | 1741180580 | 5   | C | ind       | true    | 2 | 1741180453803 | 1741180469614 | 15.811 |\n| C7_1741180580 | 1741180580 | 7   | C | -         | true    | 3 | 1741180470129 | 1741180496756 | 26.627 |\n| C0_1741180580 | 1741180580 | 0   | C | -         | control | 1 | 1741180497269 | 1741180547844 | 50.575 |\n| C18_1741180580 | 1741180580 | 18  | C | лёгкая    | false   | 3 | 1741180548354 | 1741180559800 | 11.446 |\n| C4_1741180580 | 1741180580 | 4   | C | cf        | true    | 3 | 1741180560313 | 1741180580032 | 19.719 |\n\n",
            "text/latex": "A data.frame: 16 × 9\n\\begin{tabular}{r|lllllllll}\n  & id\\_person & id\\_item & id\\_list & adjective & type & judgement & print\\_time & judge\\_time & clean\\_time\\\\\n  & <chr> & <chr> & <chr> & <chr> & <chr> & <chr> & <chr> & <chr> & <dbl>\\\\\n\\hline\n\tC00\\_1741180580 & 1741180580 & 00  & C & -         & control & 5 & 1741180203027 & 1741180214713 & 11.686\\\\\n\tC14\\_1741180580 & 1741180580 & 14  & C & быстрая   & false   & 3 & 1741180215229 & 1741180231716 & 16.487\\\\\n\tC000\\_1741180580 & 1741180580 & 000 & C & -         & control & 5 & 1741180232229 & 1741180258512 & 26.283\\\\\n\tC3\\_1741180580 & 1741180580 & 3   & C & -         & true    & 3 & 1741180259024 & 1741180273214 & 14.190\\\\\n\tC6\\_1741180580 & 1741180580 & 6   & C & -         & true    & 3 & 1741180273727 & 1741180286072 & 12.345\\\\\n\tC16\\_1741180580 & 1741180580 & 16  & C & умная     & false   & 3 & 1741180286585 & 1741180296330 &  9.745\\\\\n\tC2\\_1741180580 & 1741180580 & 2   & C & -         & true    & 4 & 1741180296844 & 1741180332347 & 35.503\\\\\n\tC19\\_1741180580 & 1741180580 & 19  & C & низкая    & false   & 3 & 1741180332868 & 1741180410446 & 77.578\\\\\n\tC15\\_1741180580 & 1741180580 & 15  & C & добрая    & false   & 3 & 1741180410964 & 1741180420228 &  9.264\\\\\n\tC17\\_1741180580 & 1741180580 & 17  & C & трусливая & false   & 3 & 1741180420742 & 1741180445346 & 24.604\\\\\n\tC1\\_1741180580 & 1741180580 & 1   & C & pos       & true    & 5 & 1741180445856 & 1741180453291 &  7.435\\\\\n\tC5\\_1741180580 & 1741180580 & 5   & C & ind       & true    & 2 & 1741180453803 & 1741180469614 & 15.811\\\\\n\tC7\\_1741180580 & 1741180580 & 7   & C & -         & true    & 3 & 1741180470129 & 1741180496756 & 26.627\\\\\n\tC0\\_1741180580 & 1741180580 & 0   & C & -         & control & 1 & 1741180497269 & 1741180547844 & 50.575\\\\\n\tC18\\_1741180580 & 1741180580 & 18  & C & лёгкая    & false   & 3 & 1741180548354 & 1741180559800 & 11.446\\\\\n\tC4\\_1741180580 & 1741180580 & 4   & C & cf        & true    & 3 & 1741180560313 & 1741180580032 & 19.719\\\\\n\\end{tabular}\n",
            "text/plain": [
              "                id_person  id_item id_list adjective type    judgement\n",
              "C00_1741180580  1741180580 00      C       -         control 5        \n",
              "C14_1741180580  1741180580 14      C       быстрая   false   3        \n",
              "C000_1741180580 1741180580 000     C       -         control 5        \n",
              "C3_1741180580   1741180580 3       C       -         true    3        \n",
              "C6_1741180580   1741180580 6       C       -         true    3        \n",
              "C16_1741180580  1741180580 16      C       умная     false   3        \n",
              "C2_1741180580   1741180580 2       C       -         true    4        \n",
              "C19_1741180580  1741180580 19      C       низкая    false   3        \n",
              "C15_1741180580  1741180580 15      C       добрая    false   3        \n",
              "C17_1741180580  1741180580 17      C       трусливая false   3        \n",
              "C1_1741180580   1741180580 1       C       pos       true    5        \n",
              "C5_1741180580   1741180580 5       C       ind       true    2        \n",
              "C7_1741180580   1741180580 7       C       -         true    3        \n",
              "C0_1741180580   1741180580 0       C       -         control 1        \n",
              "C18_1741180580  1741180580 18      C       лёгкая    false   3        \n",
              "C4_1741180580   1741180580 4       C       cf        true    3        \n",
              "                print_time    judge_time    clean_time\n",
              "C00_1741180580  1741180203027 1741180214713 11.686    \n",
              "C14_1741180580  1741180215229 1741180231716 16.487    \n",
              "C000_1741180580 1741180232229 1741180258512 26.283    \n",
              "C3_1741180580   1741180259024 1741180273214 14.190    \n",
              "C6_1741180580   1741180273727 1741180286072 12.345    \n",
              "C16_1741180580  1741180286585 1741180296330  9.745    \n",
              "C2_1741180580   1741180296844 1741180332347 35.503    \n",
              "C19_1741180580  1741180332868 1741180410446 77.578    \n",
              "C15_1741180580  1741180410964 1741180420228  9.264    \n",
              "C17_1741180580  1741180420742 1741180445346 24.604    \n",
              "C1_1741180580   1741180445856 1741180453291  7.435    \n",
              "C5_1741180580   1741180453803 1741180469614 15.811    \n",
              "C7_1741180580   1741180470129 1741180496756 26.627    \n",
              "C0_1741180580   1741180497269 1741180547844 50.575    \n",
              "C18_1741180580  1741180548354 1741180559800 11.446    \n",
              "C4_1741180580   1741180560313 1741180580032 19.719    "
            ]
          },
          "metadata": {}
        }
      ]
    },
    {
      "cell_type": "code",
      "source": [],
      "metadata": {
        "id": "6H2Du9tJpMFc"
      },
      "execution_count": null,
      "outputs": []
    }
  ]
}