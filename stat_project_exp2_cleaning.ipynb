{
  "nbformat": 4,
  "nbformat_minor": 0,
  "metadata": {
    "colab": {
      "provenance": [],
      "include_colab_link": true
    },
    "kernelspec": {
      "name": "python3",
      "display_name": "Python 3"
    },
    "language_info": {
      "name": "python"
    }
  },
  "cells": [
    {
      "cell_type": "markdown",
      "metadata": {
        "id": "view-in-github",
        "colab_type": "text"
      },
      "source": [
        "<a href=\"https://colab.research.google.com/github/KatiaKozlova/stat-project/blob/main/stat_project_exp2_cleaning.ipynb\" target=\"_parent\"><img src=\"https://colab.research.google.com/assets/colab-badge.svg\" alt=\"Open In Colab\"/></a>"
      ]
    },
    {
      "cell_type": "code",
      "execution_count": 7,
      "metadata": {
        "id": "0Jud_0kYR3U4"
      },
      "outputs": [],
      "source": [
        "import csv\n",
        "import json"
      ]
    },
    {
      "cell_type": "code",
      "source": [
        "!wget -q https://raw.githubusercontent.com/KatiaKozlova/stat-project/refs/heads/main/results_exp2.csv"
      ],
      "metadata": {
        "id": "dXDC3XGNjTxi"
      },
      "execution_count": 4,
      "outputs": []
    },
    {
      "cell_type": "code",
      "source": [
        "aj = {}\n",
        "\n",
        "with open('results_exp2.csv') as file:\n",
        "    reader = csv.reader(file, delimiter=',')\n",
        "\n",
        "    for line in reader:\n",
        "        try:\n",
        "            if line[8] == 'item_goal':\n",
        "                print_time = line[11]\n",
        "            if line[8] == 'judgement':\n",
        "\n",
        "                dct = {\n",
        "                        # инфа о челе\n",
        "                        'id_person': line[0],\n",
        "\n",
        "                         # см. по таблицам\n",
        "                        'id_item': line[13],\n",
        "                        'id_list': line[12],\n",
        "                        'adjective':line[15],\n",
        "\n",
        "                        # true - филлеры, control - тестовые, false - стимулы\n",
        "                        'type': line[14],\n",
        "\n",
        "                        # оценка приемлемости\n",
        "                        'judgement': line[10],\n",
        "                        #время\n",
        "                        'print_time':print_time,\n",
        "                        'judge_time':line[11]\n",
        "                          }\n",
        "\n",
        "            main_id = line[12] + line[13] + '_' + line[0]\n",
        "            aj.update({main_id: dct})\n",
        "\n",
        "        except:\n",
        "            IndexError()"
      ],
      "metadata": {
        "id": "nBEGipXPSLB3"
      },
      "execution_count": 3,
      "outputs": []
    },
    {
      "cell_type": "code",
      "source": [
        "with open('results_exp2.json', 'w', encoding='utf-8') as json_file:\n",
        "    json.dump(aj, json_file, ensure_ascii=False, indent=4)"
      ],
      "metadata": {
        "id": "aFTXy0KlZs_5"
      },
      "execution_count": 8,
      "outputs": []
    },
    {
      "cell_type": "code",
      "source": [],
      "metadata": {
        "id": "qMAebCYmZ8BM"
      },
      "execution_count": null,
      "outputs": []
    }
  ]
}